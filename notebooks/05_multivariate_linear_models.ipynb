{
 "cells": [
  {
   "cell_type": "markdown",
   "metadata": {},
   "source": [
    "# Chapter 5. Multivariate Linear Models"
   ]
  },
  {
   "cell_type": "code",
   "execution_count": 1,
   "metadata": {},
   "outputs": [],
   "source": [
    "import pandas as pd\n",
    "import seaborn as sns\n",
    "import torch\n",
    "\n",
    "import pyro\n",
    "import pyro.distributions as dist\n",
    "import pyro.ops.stats as stats\n",
    "\n",
    "from rethinking import (LM, MAP, coef, extract_samples, glimmer,\n",
    "                        link, precis, replicate, sim, vcov)"
   ]
  },
  {
   "cell_type": "markdown",
   "metadata": {},
   "source": [
    "### Code 5.1"
   ]
  },
  {
   "cell_type": "code",
   "execution_count": 2,
   "metadata": {},
   "outputs": [],
   "source": [
    "# load data\n",
    "waffle_divorce = pd.read_csv(\"../data/WaffleDivorce.csv\", sep=\";\")\n",
    "d = waffle_divorce\n",
    "\n",
    "# standardize predictor\n",
    "median_age_marriage = torch.tensor(d[\"MedianAgeMarriage\"], dtype=torch.float)\n",
    "median_age_marriage_s = ((median_age_marriage - median_age_marriage.mean())\n",
    "                         / median_age_marriage.std())\n",
    "\n",
    "# fit model\n",
    "def model(median_age_marriage, divorce):\n",
    "    a = pyro.sample(\"a\", dist.Normal(10, 10))\n",
    "    bA = pyro.sample(\"bA\", dist.Normal(0, 1))\n",
    "    mu = a + bA * median_age_marriage\n",
    "    sigma = pyro.sample(\"sigma\", dist.Uniform(0, 10))\n",
    "    with pyro.plate(\"plate\"):\n",
    "        pyro.sample(\"Divorce\", dist.Normal(mu, sigma), obs=divorce)\n",
    "\n",
    "divorce = torch.tensor(d[\"Divorce\"], dtype=torch.float)\n",
    "m5_1 = MAP(model).run(median_age_marriage_s, divorce)"
   ]
  },
  {
   "cell_type": "markdown",
   "metadata": {},
   "source": [
    "### Code 5.2"
   ]
  },
  {
   "cell_type": "code",
   "execution_count": 3,
   "metadata": {},
   "outputs": [
    {
     "data": {
      "image/png": "[encoded data removed]",
      "text/plain": [
       "<Figure size 432x288 with 1 Axes>"
      ]
     },
     "metadata": {
      "needs_background": "light"
     },
     "output_type": "display_data"
    }
   ],
   "source": [
    "# compute percentile interval of mean\n",
    "MAM_seq = torch.linspace(start=-3, end=3.5, steps=30)\n",
    "mu = link(m5_1, data={\"median_age_marriage\": MAM_seq})\n",
    "mu_PI = stats.pi(mu, 0.89, dim=0)\n",
    "\n",
    "# plot it all\n",
    "ax = sns.scatterplot(median_age_marriage_s, divorce)\n",
    "ax.set(xlabel=\"MedianAgeMarriage.s\", ylabel=\"Divorce\")\n",
    "x = torch.linspace(-3, 3.5, 101)\n",
    "sns.lineplot(x, coef(m5_1)[\"a\"] + coef(m5_1)[\"bA\"] * x, color=\"k\")\n",
    "ax.fill_between(MAM_seq, mu_PI[0], mu_PI[1], color=\"k\", alpha=0.15);"
   ]
  },
  {
   "cell_type": "markdown",
   "metadata": {},
   "source": [
    "### Code 5.3"
   ]
  },
  {
   "cell_type": "code",
   "execution_count": 3,
   "metadata": {},
   "outputs": [],
   "source": [
    "def model(marriage, divorce):\n",
    "    a = pyro.sample(\"a\", dist.Normal(10, 10))\n",
    "    bR = pyro.sample(\"bR\", dist.Normal(0, 1))\n",
    "    mu = a + bR * marriage\n",
    "    sigma = pyro.sample(\"sigma\", dist.Uniform(0, 10))\n",
    "    with pyro.plate(\"plate\"):\n",
    "        pyro.sample(\"Divorce\", dist.Normal(mu, sigma), obs=divorce)\n",
    "\n",
    "marriage = torch.tensor(d[\"Marriage\"], dtype=torch.float)\n",
    "marriage_s = (marriage - marriage.mean()) / marriage.std()\n",
    "m5_2 = MAP(model).run(marriage_s, divorce)"
   ]
  },
  {
   "cell_type": "markdown",
   "metadata": {},
   "source": [
    "### Code 5.4"
   ]
  },
  {
   "cell_type": "code",
   "execution_count": 4,
   "metadata": {},
   "outputs": [
    {
     "data": {
      "text/html": [
       "<div>\n",
       "<style scoped>\n",
       "    .dataframe tbody tr th:only-of-type {\n",
       "        vertical-align: middle;\n",
       "    }\n",
       "\n",
       "    .dataframe tbody tr th {\n",
       "        vertical-align: top;\n",
       "    }\n",
       "\n",
       "    .dataframe thead th {\n",
       "        text-align: right;\n",
       "    }\n",
       "</style>\n",
       "<table border=\"1\" class=\"dataframe\">\n",
       "  <thead>\n",
       "    <tr style=\"text-align: right;\">\n",
       "      <th></th>\n",
       "      <th>Mean</th>\n",
       "      <th>StdDev</th>\n",
       "      <th>|0.89</th>\n",
       "      <th>0.89|</th>\n",
       "    </tr>\n",
       "  </thead>\n",
       "  <tbody>\n",
       "    <tr>\n",
       "      <th>a</th>\n",
       "      <td>9.69</td>\n",
       "      <td>0.20</td>\n",
       "      <td>9.38</td>\n",
       "      <td>10.04</td>\n",
       "    </tr>\n",
       "    <tr>\n",
       "      <th>bR</th>\n",
       "      <td>-0.13</td>\n",
       "      <td>0.28</td>\n",
       "      <td>-0.57</td>\n",
       "      <td>0.32</td>\n",
       "    </tr>\n",
       "    <tr>\n",
       "      <th>bA</th>\n",
       "      <td>-1.14</td>\n",
       "      <td>0.28</td>\n",
       "      <td>-1.58</td>\n",
       "      <td>-0.69</td>\n",
       "    </tr>\n",
       "    <tr>\n",
       "      <th>sigma</th>\n",
       "      <td>1.46</td>\n",
       "      <td>0.15</td>\n",
       "      <td>1.22</td>\n",
       "      <td>1.68</td>\n",
       "    </tr>\n",
       "  </tbody>\n",
       "</table>\n",
       "</div>"
      ],
      "text/plain": [
       "       Mean  StdDev  |0.89  0.89|\n",
       "a      9.69    0.20   9.38  10.04\n",
       "bR    -0.13    0.28  -0.57   0.32\n",
       "bA    -1.14    0.28  -1.58  -0.69\n",
       "sigma  1.46    0.15   1.22   1.68"
      ]
     },
     "execution_count": 4,
     "metadata": {},
     "output_type": "execute_result"
    }
   ],
   "source": [
    "def model(marriage, median_age_marriage, divorce):\n",
    "    a = pyro.sample(\"a\", dist.Normal(10, 10))\n",
    "    bR = pyro.sample(\"bR\", dist.Normal(0, 1))\n",
    "    bA = pyro.sample(\"bA\", dist.Normal(0, 1))\n",
    "    mu = a + bR * marriage + bA * median_age_marriage\n",
    "    sigma = pyro.sample(\"sigma\", dist.Uniform(0, 10))\n",
    "    with pyro.plate(\"plate\"):\n",
    "        pyro.sample(\"Divorce\", dist.Normal(mu, sigma), obs=divorce)\n",
    "\n",
    "m5_3 = MAP(model).run(marriage_s, median_age_marriage_s, divorce)\n",
    "precis(m5_3)"
   ]
  },
  {
   "cell_type": "markdown",
   "metadata": {},
   "source": [
    "### Code 5.5"
   ]
  },
  {
   "cell_type": "code",
   "execution_count": 9,
   "metadata": {},
   "outputs": [
    {
     "data": {
      "image/png": "[encoded data removed]",
      "text/plain": [
       "<Figure size 432x288 with 1 Axes>"
      ]
     },
     "metadata": {
      "needs_background": "light"
     },
     "output_type": "display_data"
    }
   ],
   "source": [
    "precis_df = precis(m5_3)\n",
    "sns.pointplot(precis_df[\"Mean\"], precis_df.index, join=False)\n",
    "for i, node in enumerate(precis_df.index):\n",
    "    sns.lineplot(precis_df.loc[node, [\"|0.89\", \"0.89|\"]], [i, i], color=\"k\")"
   ]
  },
  {
   "cell_type": "markdown",
   "metadata": {},
   "source": [
    "### Code 5.6"
   ]
  },
  {
   "cell_type": "code",
   "execution_count": 10,
   "metadata": {},
   "outputs": [],
   "source": [
    "def model(median_age_marriage, marriage):\n",
    "    a = pyro.sample(\"a\", dist.Normal(10, 10))\n",
    "    b = pyro.sample(\"b\", dist.Normal(0, 1))\n",
    "    mu = a + b * median_age_marriage\n",
    "    sigma = pyro.sample(\"sigma\", dist.Uniform(0, 10))\n",
    "    with pyro.plate(\"plate\"):\n",
    "        pyro.sample(\"outcome\", dist.Normal(mu, sigma), obs=marriage_s)\n",
    "\n",
    "m5_4 = MAP(model).run(median_age_marriage_s, marriage_s)"
   ]
  },
  {
   "cell_type": "markdown",
   "metadata": {},
   "source": [
    "### Code 5.7"
   ]
  },
  {
   "cell_type": "code",
   "execution_count": 11,
   "metadata": {},
   "outputs": [],
   "source": [
    "# compute expected value at MAP, for each State\n",
    "mu = coef(m5_4)[\"a\"] + coef(m5_4)[\"b\"] * median_age_marriage_s\n",
    "# compute residual for each State\n",
    "m_resid = marriage_s - mu"
   ]
  },
  {
   "cell_type": "markdown",
   "metadata": {},
   "source": [
    "### Code 5.8"
   ]
  },
  {
   "cell_type": "code",
   "execution_count": 12,
   "metadata": {},
   "outputs": [
    {
     "data": {
      "image/png": "[encoded data removed]",
      "text/plain": [
       "<Figure size 432x288 with 1 Axes>"
      ]
     },
     "metadata": {
      "needs_background": "light"
     },
     "output_type": "display_data"
    }
   ],
   "source": [
    "ax = sns.scatterplot(median_age_marriage_s, marriage_s)\n",
    "ax.set(xlabel=\"MedianAgeMarriage.s\", ylabel=\"Marriage.s\")\n",
    "x = torch.linspace(-2.5, 3, 101)\n",
    "sns.lineplot(x, coef(m5_4)[\"a\"] + coef(m5_4)[\"b\"] * x, color=\"k\")\n",
    "# loop over States\n",
    "for i in range(len(m_resid)):\n",
    "    x = median_age_marriage_s[i]  # x location of line segment\n",
    "    y = marriage_s[i]  # observed endpoint of line segment\n",
    "    # draw the line segment\n",
    "    sns.lineplot(x.repeat(2), torch.stack([mu[i], y]), color=\"k\", alpha=0.7)"
   ]
  },
  {
   "cell_type": "markdown",
   "metadata": {},
   "source": [
    "### Code 5.9"
   ]
  },
  {
   "cell_type": "code",
   "execution_count": 10,
   "metadata": {},
   "outputs": [
    {
     "data": {
      "image/png": "[encoded data removed]",
      "text/plain": [
       "<Figure size 576x432 with 1 Axes>"
      ]
     },
     "metadata": {},
     "output_type": "display_data"
    }
   ],
   "source": [
    "# prepare new counterfactual data\n",
    "A_avg = median_age_marriage_s.mean()\n",
    "R_seq = torch.linspace(start=-3, end=3, steps=30)\n",
    "pred_data = {\"marriage\": R_seq, \"median_age_marriage\": A_avg.expand_as(R_seq)}\n",
    "\n",
    "# compute counterfactual mean divorce (mu)\n",
    "mu = link(m5_3, data=pred_data)\n",
    "mu_mean = mu.mean(0)\n",
    "mu_PI = stats.pi(mu, 0.89, dim=0)\n",
    "\n",
    "# simulate counterfactual divorce outcomes\n",
    "R_sim = sim(m5_3, data=pred_data, n=int(1e4))\n",
    "R_PI = stats.pi(R_sim, 0.89, dim=0)\n",
    "\n",
    "# display predictions, hiding raw data with visible=False\n",
    "ax = sns.scatterplot(marriage_s, divorce, visible=False)\n",
    "ax.set(xlabel=\"Marriage.s\", ylabel=\"Divorce\", title=\"MedianAgeMarriage.s = 0\")\n",
    "sns.lineplot(R_seq, mu_mean, color=\"k\")\n",
    "ax.fill_between(R_seq, mu_PI[0], mu_PI[1], color=\"k\", alpha=0.2)\n",
    "ax.fill_between(R_seq, R_PI[0], R_PI[1], color=\"k\", alpha=0.2);"
   ]
  },
  {
   "cell_type": "markdown",
   "metadata": {},
   "source": [
    "### Code 5.10"
   ]
  },
  {
   "cell_type": "code",
   "execution_count": 11,
   "metadata": {},
   "outputs": [
    {
     "data": {
      "image/png": "[encoded data removed]",
      "text/plain": [
       "<Figure size 576x432 with 1 Axes>"
      ]
     },
     "metadata": {},
     "output_type": "display_data"
    }
   ],
   "source": [
    "R_avg = marriage_s.mean()\n",
    "A_seq = torch.linspace(start=-3, end=3.5, steps=30)\n",
    "pred_data2 = {\"marriage\": R_avg.expand_as(A_seq), \"median_age_marriage\": A_seq}\n",
    "\n",
    "mu = link(m5_3, data=pred_data2)\n",
    "mu_mean = mu.mean(0)\n",
    "mu_PI = stats.pi(mu, 0.89, dim=0)\n",
    "\n",
    "A_sim = sim(m5_3, data=pred_data2, n=int(1e4))\n",
    "A_PI = stats.pi(A_sim, 0.89, dim=0)\n",
    "\n",
    "ax = sns.scatterplot(median_age_marriage_s, divorce, visible=False)\n",
    "ax.set(xlabel=\"MedianAgeMarriage.s\", ylabel=\"Divorce\", title=\"Marriage.s = 0\")\n",
    "sns.lineplot(A_seq, mu_mean, color=\"k\")\n",
    "ax.fill_between(A_seq, mu_PI[0], mu_PI[1], color=\"k\", alpha=0.2)\n",
    "ax.fill_between(A_seq, A_PI[0], A_PI[1], color=\"k\", alpha=0.2);"
   ]
  },
  {
   "cell_type": "markdown",
   "metadata": {},
   "source": [
    "### Code 5.11"
   ]
  },
  {
   "cell_type": "code",
   "execution_count": 12,
   "metadata": {},
   "outputs": [],
   "source": [
    "# call link without specifying new data\n",
    "# so it uses original data\n",
    "mu = link(m5_3)\n",
    "\n",
    "# summarize samples across cases\n",
    "mu_mean = mu.mean(0)\n",
    "mu_PI = stats.pi(mu, 0.89, dim=0)\n",
    "\n",
    "# simulate observations\n",
    "# again no new data, so uses original data\n",
    "divorce_sim = sim(m5_3, n=int(1e4))\n",
    "divorce_PI = stats.pi(divorce_sim, 0.89, dim=0)"
   ]
  },
  {
   "cell_type": "markdown",
   "metadata": {},
   "source": [
    "### Code 5.12"
   ]
  },
  {
   "cell_type": "code",
   "execution_count": 13,
   "metadata": {},
   "outputs": [
    {
     "data": {
      "image/png": "[encoded data removed]",
      "text/plain": [
       "<Figure size 576x432 with 1 Axes>"
      ]
     },
     "metadata": {},
     "output_type": "display_data"
    }
   ],
   "source": [
    "fig, ax = sns.mpl.pyplot.subplots()\n",
    "sns.scatterplot(divorce, mu_mean)\n",
    "ax.set(xlabel=\"Observed divorce\", ylabel=\"Predicted divorce\")\n",
    "x = torch.linspace(6, 14, 101)\n",
    "sns.lineplot(x, x, color=\"k\")\n",
    "ax.lines[-1].set_linestyle(\"--\")\n",
    "for i in range(d.shape[0]):\n",
    "    sns.lineplot(divorce[i].repeat(2), mu_PI[:, i], color=\"k\")"
   ]
  },
  {
   "cell_type": "markdown",
   "metadata": {},
   "source": [
    "### Code 5.13"
   ]
  },
  {
   "cell_type": "code",
   "execution_count": 14,
   "metadata": {},
   "outputs": [
    {
     "data": {
      "image/png": "[encoded data removed]",
      "text/plain": [
       "<Figure size 576x432 with 1 Axes>"
      ]
     },
     "execution_count": 14,
     "metadata": {},
     "output_type": "execute_result"
    }
   ],
   "source": [
    "identify = mu_mean.sort(descending=True)[1][:2]\n",
    "for i in identify:\n",
    "    ax.annotate(d[\"Loc\"][i], (divorce[i], mu_mean[i]), xytext=(-25, -5),\n",
    "                textcoords=\"offset pixels\")\n",
    "fig"
   ]
  },
  {
   "cell_type": "markdown",
   "metadata": {},
   "source": [
    "### Code 5.14"
   ]
  },
  {
   "cell_type": "code",
   "execution_count": 15,
   "metadata": {},
   "outputs": [
    {
     "data": {
      "image/png": "[encoded data removed]",
      "text/plain": [
       "<Figure size 576x864 with 1 Axes>"
      ]
     },
     "metadata": {},
     "output_type": "display_data"
    }
   ],
   "source": [
    "# compute residuals\n",
    "divorce_resid = divorce - mu_mean\n",
    "# get ordering by divorce rate\n",
    "o = divorce_resid.sort()[1].tolist()\n",
    "# make the plot\n",
    "_, ax = sns.mpl.pyplot.subplots(figsize=(8, 12))\n",
    "sns.scatterplot(divorce_resid[o], d[\"Loc\"][o], s=80)\n",
    "ax.set(xlim=(-6, 5))\n",
    "ax.yaxis.grid(True)\n",
    "ax.axvline(x=0, c=\"k\", alpha=0.2)\n",
    "for i in range(d.shape[0]):\n",
    "    j = o[i]  # which State in order\n",
    "    sns.lineplot(divorce[j] - mu_PI[:, j], [i, i], color=\"k\")\n",
    "    sns.scatterplot(divorce[j] - divorce_PI[:, j], [i, i], color=\"gray\", marker=\"+\")"
   ]
  },
  {
   "cell_type": "markdown",
   "metadata": {},
   "source": [
    "### Code 5.15"
   ]
  },
  {
   "cell_type": "code",
   "execution_count": 16,
   "metadata": {},
   "outputs": [],
   "source": [
    "N = 100  # number of cases\n",
    "x_real = torch.randn(N)  # x_real as Gaussian with mean 0 and stddev 1\n",
    "x_spur = dist.Normal(x_real, 1).sample()  # x_spur as Gaussian with mean=x_real\n",
    "y = dist.Normal(x_real, 1).sample()  # y as Gaussian with mean=x_real\n",
    "# bind all together in data frame\n",
    "d = pd.DataFrame({\"y\": y, \"x_real\": x_real, \"x_spur\": x_spur})"
   ]
  },
  {
   "cell_type": "markdown",
   "metadata": {},
   "source": [
    "### Code 5.16"
   ]
  },
  {
   "cell_type": "code",
   "execution_count": 17,
   "metadata": {},
   "outputs": [
    {
     "name": "stdout",
     "output_type": "stream",
     "text": [
      "<class 'pandas.core.frame.DataFrame'>\n",
      "RangeIndex: 29 entries, 0 to 28\n",
      "Data columns (total 8 columns):\n",
      "clade             29 non-null object\n",
      "species           29 non-null object\n",
      "kcal.per.g        29 non-null float64\n",
      "perc.fat          29 non-null float64\n",
      "perc.protein      29 non-null float64\n",
      "perc.lactose      29 non-null float64\n",
      "mass              29 non-null float64\n",
      "neocortex.perc    17 non-null float64\n",
      "dtypes: float64(6), object(2)\n",
      "memory usage: 1.9+ KB\n"
     ]
    },
    {
     "data": {
      "text/html": [
       "<div>\n",
       "<style scoped>\n",
       "    .dataframe tbody tr th:only-of-type {\n",
       "        vertical-align: middle;\n",
       "    }\n",
       "\n",
       "    .dataframe tbody tr th {\n",
       "        vertical-align: top;\n",
       "    }\n",
       "\n",
       "    .dataframe thead th {\n",
       "        text-align: right;\n",
       "    }\n",
       "</style>\n",
       "<table border=\"1\" class=\"dataframe\">\n",
       "  <thead>\n",
       "    <tr style=\"text-align: right;\">\n",
       "      <th></th>\n",
       "      <th>clade</th>\n",
       "      <th>species</th>\n",
       "      <th>kcal.per.g</th>\n",
       "      <th>perc.fat</th>\n",
       "      <th>perc.protein</th>\n",
       "      <th>perc.lactose</th>\n",
       "      <th>mass</th>\n",
       "      <th>neocortex.perc</th>\n",
       "    </tr>\n",
       "  </thead>\n",
       "  <tbody>\n",
       "    <tr>\n",
       "      <th>0</th>\n",
       "      <td>Strepsirrhine</td>\n",
       "      <td>Eulemur fulvus</td>\n",
       "      <td>0.49</td>\n",
       "      <td>16.60</td>\n",
       "      <td>15.42</td>\n",
       "      <td>67.98</td>\n",
       "      <td>1.95</td>\n",
       "      <td>55.16</td>\n",
       "    </tr>\n",
       "    <tr>\n",
       "      <th>1</th>\n",
       "      <td>Strepsirrhine</td>\n",
       "      <td>E macaco</td>\n",
       "      <td>0.51</td>\n",
       "      <td>19.27</td>\n",
       "      <td>16.91</td>\n",
       "      <td>63.82</td>\n",
       "      <td>2.09</td>\n",
       "      <td>NaN</td>\n",
       "    </tr>\n",
       "    <tr>\n",
       "      <th>2</th>\n",
       "      <td>Strepsirrhine</td>\n",
       "      <td>E mongoz</td>\n",
       "      <td>0.46</td>\n",
       "      <td>14.11</td>\n",
       "      <td>16.85</td>\n",
       "      <td>69.04</td>\n",
       "      <td>2.51</td>\n",
       "      <td>NaN</td>\n",
       "    </tr>\n",
       "    <tr>\n",
       "      <th>3</th>\n",
       "      <td>Strepsirrhine</td>\n",
       "      <td>E rubriventer</td>\n",
       "      <td>0.48</td>\n",
       "      <td>14.91</td>\n",
       "      <td>13.18</td>\n",
       "      <td>71.91</td>\n",
       "      <td>1.62</td>\n",
       "      <td>NaN</td>\n",
       "    </tr>\n",
       "    <tr>\n",
       "      <th>4</th>\n",
       "      <td>Strepsirrhine</td>\n",
       "      <td>Lemur catta</td>\n",
       "      <td>0.60</td>\n",
       "      <td>27.28</td>\n",
       "      <td>19.50</td>\n",
       "      <td>53.22</td>\n",
       "      <td>2.19</td>\n",
       "      <td>NaN</td>\n",
       "    </tr>\n",
       "  </tbody>\n",
       "</table>\n",
       "</div>"
      ],
      "text/plain": [
       "           clade         species  kcal.per.g  perc.fat  perc.protein  \\\n",
       "0  Strepsirrhine  Eulemur fulvus        0.49     16.60         15.42   \n",
       "1  Strepsirrhine        E macaco        0.51     19.27         16.91   \n",
       "2  Strepsirrhine        E mongoz        0.46     14.11         16.85   \n",
       "3  Strepsirrhine   E rubriventer        0.48     14.91         13.18   \n",
       "4  Strepsirrhine     Lemur catta        0.60     27.28         19.50   \n",
       "\n",
       "   perc.lactose  mass  neocortex.perc  \n",
       "0         67.98  1.95           55.16  \n",
       "1         63.82  2.09             NaN  \n",
       "2         69.04  2.51             NaN  \n",
       "3         71.91  1.62             NaN  \n",
       "4         53.22  2.19             NaN  "
      ]
     },
     "execution_count": 17,
     "metadata": {},
     "output_type": "execute_result"
    }
   ],
   "source": [
    "milk = pd.read_csv(\"../data/milk.csv\", sep=\";\")\n",
    "d = milk\n",
    "d.info()\n",
    "d.head()"
   ]
  },
  {
   "cell_type": "markdown",
   "metadata": {},
   "source": [
    "### Code 5.17"
   ]
  },
  {
   "cell_type": "code",
   "execution_count": 18,
   "metadata": {},
   "outputs": [
    {
     "name": "stdout",
     "output_type": "stream",
     "text": [
      "ValueError: The parameter loc has invalid values\n",
      "Trace Shapes:  \n",
      " Param Sites:  \n",
      "Sample Sites:  \n",
      "       a dist |\n",
      "        value |\n",
      "      bn dist |\n",
      "        value |\n",
      "   sigma dist |\n",
      "        value |\n"
     ]
    }
   ],
   "source": [
    "def model(neocortex_perc, kcal_per_g):\n",
    "    a = pyro.sample(\"a\", dist.Normal(0, 100))\n",
    "    bn = pyro.sample(\"bn\", dist.Normal(0, 1))\n",
    "    mu = a + bn * neocortex_perc\n",
    "    sigma = pyro.sample(\"sigma\", dist.Uniform(0, 1))\n",
    "    with pyro.plate(\"plate\"):\n",
    "        pyro.sample(\"kcal.per.g\", dist.Normal(mu, sigma), obs=kcal_per_g)\n",
    "\n",
    "# fit model\n",
    "neocortex_perc = torch.tensor(d[\"neocortex.perc\"], dtype=torch.float)\n",
    "kcal_per_g = torch.tensor(d[\"kcal.per.g\"], dtype=torch.float)\n",
    "try:\n",
    "    m5_5 = MAP(model).run(neocortex_perc, kcal_per_g)\n",
    "except Exception as e:\n",
    "    print(\"{}: {}\".format(type(e).__name__, e))"
   ]
  },
  {
   "cell_type": "markdown",
   "metadata": {},
   "source": [
    "### Code 5.18"
   ]
  },
  {
   "cell_type": "code",
   "execution_count": 19,
   "metadata": {},
   "outputs": [
    {
     "data": {
      "text/plain": [
       "tensor([55.1600,     nan,     nan,     nan,     nan, 64.5400, 64.5400, 67.6400,\n",
       "            nan, 68.8500, 58.8500, 61.6900, 60.3200,     nan,     nan, 69.9700,\n",
       "            nan, 70.4100,     nan, 73.4000,     nan, 67.5300,     nan, 71.2600,\n",
       "        72.6000,     nan, 70.2400, 76.3000, 75.4900])"
      ]
     },
     "execution_count": 19,
     "metadata": {},
     "output_type": "execute_result"
    }
   ],
   "source": [
    "neocortex_perc"
   ]
  },
  {
   "cell_type": "markdown",
   "metadata": {},
   "source": [
    "### Code 5.19"
   ]
  },
  {
   "cell_type": "code",
   "execution_count": 20,
   "metadata": {},
   "outputs": [],
   "source": [
    "isnan = torch.isnan(neocortex_perc)\n",
    "dcc_neocortex_perc = neocortex_perc[~isnan]\n",
    "dcc_kcal_per_g = kcal_per_g[~isnan]"
   ]
  },
  {
   "cell_type": "markdown",
   "metadata": {},
   "source": [
    "### Code 5.20"
   ]
  },
  {
   "cell_type": "code",
   "execution_count": 21,
   "metadata": {},
   "outputs": [],
   "source": [
    "def model(neocortex_perc, kcal_per_g):\n",
    "    a = pyro.sample(\"a\", dist.Normal(0, 100))\n",
    "    bn = pyro.sample(\"bn\", dist.Normal(0, 1))\n",
    "    mu = a + bn * neocortex_perc\n",
    "    sigma = pyro.sample(\"sigma\", dist.Uniform(0, 1))\n",
    "    with pyro.plate(\"plate\"):\n",
    "        pyro.sample(\"kcal.per.g\", dist.Normal(mu, sigma), obs=kcal_per_g)\n",
    "\n",
    "m5_5 = MAP(model).run(dcc_neocortex_perc, dcc_kcal_per_g)"
   ]
  },
  {
   "cell_type": "markdown",
   "metadata": {},
   "source": [
    "### Code 5.21"
   ]
  },
  {
   "cell_type": "code",
   "execution_count": 22,
   "metadata": {},
   "outputs": [
    {
     "data": {
      "text/html": [
       "<div>\n",
       "<style scoped>\n",
       "    .dataframe tbody tr th:only-of-type {\n",
       "        vertical-align: middle;\n",
       "    }\n",
       "\n",
       "    .dataframe tbody tr th {\n",
       "        vertical-align: top;\n",
       "    }\n",
       "\n",
       "    .dataframe thead th {\n",
       "        text-align: right;\n",
       "    }\n",
       "</style>\n",
       "<table border=\"1\" class=\"dataframe\">\n",
       "  <thead>\n",
       "    <tr style=\"text-align: right;\">\n",
       "      <th></th>\n",
       "      <th>Mean</th>\n",
       "      <th>StdDev</th>\n",
       "      <th>|0.89</th>\n",
       "      <th>0.89|</th>\n",
       "    </tr>\n",
       "  </thead>\n",
       "  <tbody>\n",
       "    <tr>\n",
       "      <th>a</th>\n",
       "      <td>0.355</td>\n",
       "      <td>0.481</td>\n",
       "      <td>-0.386</td>\n",
       "      <td>1.139</td>\n",
       "    </tr>\n",
       "    <tr>\n",
       "      <th>bn</th>\n",
       "      <td>0.004</td>\n",
       "      <td>0.007</td>\n",
       "      <td>-0.007</td>\n",
       "      <td>0.015</td>\n",
       "    </tr>\n",
       "    <tr>\n",
       "      <th>sigma</th>\n",
       "      <td>0.172</td>\n",
       "      <td>0.030</td>\n",
       "      <td>0.123</td>\n",
       "      <td>0.218</td>\n",
       "    </tr>\n",
       "  </tbody>\n",
       "</table>\n",
       "</div>"
      ],
      "text/plain": [
       "        Mean  StdDev  |0.89  0.89|\n",
       "a      0.355   0.481 -0.386  1.139\n",
       "bn     0.004   0.007 -0.007  0.015\n",
       "sigma  0.172   0.030  0.123  0.218"
      ]
     },
     "execution_count": 22,
     "metadata": {},
     "output_type": "execute_result"
    }
   ],
   "source": [
    "precis(m5_5, digits=3)"
   ]
  },
  {
   "cell_type": "markdown",
   "metadata": {},
   "source": [
    "### Code 5.22"
   ]
  },
  {
   "cell_type": "code",
   "execution_count": 23,
   "metadata": {},
   "outputs": [
    {
     "data": {
      "text/plain": [
       "tensor(0.0940)"
      ]
     },
     "execution_count": 23,
     "metadata": {},
     "output_type": "execute_result"
    }
   ],
   "source": [
    "coef(m5_5)[\"bn\"] * (76 - 55)"
   ]
  },
  {
   "cell_type": "markdown",
   "metadata": {},
   "source": [
    "### Code 5.23"
   ]
  },
  {
   "cell_type": "code",
   "execution_count": 24,
   "metadata": {},
   "outputs": [
    {
     "data": {
      "image/png": "[encoded data removed]",
      "text/plain": [
       "<Figure size 576x432 with 1 Axes>"
      ]
     },
     "metadata": {},
     "output_type": "display_data"
    }
   ],
   "source": [
    "np_seq = torch.arange(100.)\n",
    "pred_data = {\"neocortex_perc\": np_seq}\n",
    "\n",
    "mu = link(m5_5, data=pred_data, n=int(1e4))\n",
    "mu_mean = mu.mean(0)\n",
    "mu_PI = stats.pi(mu, 0.89, dim=0)\n",
    "\n",
    "ax = sns.scatterplot(dcc_neocortex_perc, dcc_kcal_per_g)\n",
    "ax.set(xlabel=\"neocortex.perc\", ylabel=\"kcal.per.g\")\n",
    "sns.lineplot(np_seq[54:78], mu_mean[54:78], color=\"k\")\n",
    "sns.lineplot(np_seq[54:78], mu_PI[0, 54:78], color=\"k\")\n",
    "ax.lines[-1].set_linestyle(\"--\")\n",
    "sns.lineplot(np_seq[54:78], mu_PI[1, 54:78], color=\"k\")\n",
    "ax.lines[-1].set_linestyle(\"--\")"
   ]
  },
  {
   "cell_type": "markdown",
   "metadata": {},
   "source": [
    "### Code 5.24"
   ]
  },
  {
   "cell_type": "code",
   "execution_count": 25,
   "metadata": {},
   "outputs": [],
   "source": [
    "mass = torch.tensor(d[\"mass\"], dtype=torch.float)\n",
    "dcc_mass = mass[~isnan]\n",
    "dcc_log_mass = dcc_mass.log()"
   ]
  },
  {
   "cell_type": "markdown",
   "metadata": {},
   "source": [
    "### Code 5.25"
   ]
  },
  {
   "cell_type": "code",
   "execution_count": 26,
   "metadata": {},
   "outputs": [
    {
     "data": {
      "text/html": [
       "<div>\n",
       "<style scoped>\n",
       "    .dataframe tbody tr th:only-of-type {\n",
       "        vertical-align: middle;\n",
       "    }\n",
       "\n",
       "    .dataframe tbody tr th {\n",
       "        vertical-align: top;\n",
       "    }\n",
       "\n",
       "    .dataframe thead th {\n",
       "        text-align: right;\n",
       "    }\n",
       "</style>\n",
       "<table border=\"1\" class=\"dataframe\">\n",
       "  <thead>\n",
       "    <tr style=\"text-align: right;\">\n",
       "      <th></th>\n",
       "      <th>Mean</th>\n",
       "      <th>StdDev</th>\n",
       "      <th>|0.89</th>\n",
       "      <th>0.89|</th>\n",
       "    </tr>\n",
       "  </thead>\n",
       "  <tbody>\n",
       "    <tr>\n",
       "      <th>a</th>\n",
       "      <td>0.71</td>\n",
       "      <td>0.05</td>\n",
       "      <td>0.63</td>\n",
       "      <td>0.78</td>\n",
       "    </tr>\n",
       "    <tr>\n",
       "      <th>bn</th>\n",
       "      <td>-0.03</td>\n",
       "      <td>0.02</td>\n",
       "      <td>-0.06</td>\n",
       "      <td>0.00</td>\n",
       "    </tr>\n",
       "    <tr>\n",
       "      <th>sigma</th>\n",
       "      <td>0.16</td>\n",
       "      <td>0.03</td>\n",
       "      <td>0.12</td>\n",
       "      <td>0.20</td>\n",
       "    </tr>\n",
       "  </tbody>\n",
       "</table>\n",
       "</div>"
      ],
      "text/plain": [
       "       Mean  StdDev  |0.89  0.89|\n",
       "a      0.71    0.05   0.63   0.78\n",
       "bn    -0.03    0.02  -0.06   0.00\n",
       "sigma  0.16    0.03   0.12   0.20"
      ]
     },
     "execution_count": 26,
     "metadata": {},
     "output_type": "execute_result"
    }
   ],
   "source": [
    "def model(log_mass, kcal_per_g):\n",
    "    a = pyro.sample(\"a\", dist.Normal(0, 100))\n",
    "    bm = pyro.sample(\"bn\", dist.Normal(0, 1))\n",
    "    mu = a + bm * log_mass\n",
    "    sigma = pyro.sample(\"sigma\", dist.Uniform(0, 1))\n",
    "    with pyro.plate(\"plate\"):\n",
    "        pyro.sample(\"kcal.per.g\", dist.Normal(mu, sigma), obs=kcal_per_g)\n",
    "\n",
    "m5_6 = MAP(model).run(dcc_log_mass, dcc_kcal_per_g)\n",
    "precis(m5_6)"
   ]
  },
  {
   "cell_type": "markdown",
   "metadata": {},
   "source": [
    "### Code 5.26"
   ]
  },
  {
   "cell_type": "code",
   "execution_count": 27,
   "metadata": {},
   "outputs": [
    {
     "data": {
      "text/html": [
       "<div>\n",
       "<style scoped>\n",
       "    .dataframe tbody tr th:only-of-type {\n",
       "        vertical-align: middle;\n",
       "    }\n",
       "\n",
       "    .dataframe tbody tr th {\n",
       "        vertical-align: top;\n",
       "    }\n",
       "\n",
       "    .dataframe thead th {\n",
       "        text-align: right;\n",
       "    }\n",
       "</style>\n",
       "<table border=\"1\" class=\"dataframe\">\n",
       "  <thead>\n",
       "    <tr style=\"text-align: right;\">\n",
       "      <th></th>\n",
       "      <th>Mean</th>\n",
       "      <th>StdDev</th>\n",
       "      <th>|0.89</th>\n",
       "      <th>0.89|</th>\n",
       "    </tr>\n",
       "  </thead>\n",
       "  <tbody>\n",
       "    <tr>\n",
       "      <th>a</th>\n",
       "      <td>-1.09</td>\n",
       "      <td>0.47</td>\n",
       "      <td>-1.84</td>\n",
       "      <td>-0.32</td>\n",
       "    </tr>\n",
       "    <tr>\n",
       "      <th>bn</th>\n",
       "      <td>0.03</td>\n",
       "      <td>0.01</td>\n",
       "      <td>0.02</td>\n",
       "      <td>0.04</td>\n",
       "    </tr>\n",
       "    <tr>\n",
       "      <th>bm</th>\n",
       "      <td>-0.10</td>\n",
       "      <td>0.02</td>\n",
       "      <td>-0.14</td>\n",
       "      <td>-0.06</td>\n",
       "    </tr>\n",
       "    <tr>\n",
       "      <th>sigma</th>\n",
       "      <td>0.12</td>\n",
       "      <td>0.02</td>\n",
       "      <td>0.09</td>\n",
       "      <td>0.15</td>\n",
       "    </tr>\n",
       "  </tbody>\n",
       "</table>\n",
       "</div>"
      ],
      "text/plain": [
       "       Mean  StdDev  |0.89  0.89|\n",
       "a     -1.09    0.47  -1.84  -0.32\n",
       "bn     0.03    0.01   0.02   0.04\n",
       "bm    -0.10    0.02  -0.14  -0.06\n",
       "sigma  0.12    0.02   0.09   0.15"
      ]
     },
     "execution_count": 27,
     "metadata": {},
     "output_type": "execute_result"
    }
   ],
   "source": [
    "def model(neocortex_perc, log_mass, kcal_per_g):\n",
    "    a = pyro.sample(\"a\", dist.Normal(0, 100))\n",
    "    bn = pyro.sample(\"bn\", dist.Normal(0, 1))\n",
    "    bm = pyro.sample(\"bm\", dist.Normal(0, 1))\n",
    "    mu = a + bn * neocortex_perc + bm * log_mass\n",
    "    sigma = pyro.sample(\"sigma\", dist.Uniform(0, 1))\n",
    "    with pyro.plate(\"plate\"):\n",
    "        pyro.sample(\"kcal.per.g\", dist.Normal(mu, sigma), obs=kcal_per_g)\n",
    "\n",
    "m5_7 = MAP(model).run(dcc_neocortex_perc, dcc_log_mass, dcc_kcal_per_g)\n",
    "precis(m5_7)"
   ]
  },
  {
   "cell_type": "markdown",
   "metadata": {},
   "source": [
    "### Code 5.27"
   ]
  },
  {
   "cell_type": "code",
   "execution_count": 28,
   "metadata": {},
   "outputs": [
    {
     "data": {
      "image/png": "[encoded data removed]",
      "text/plain": [
       "<Figure size 576x432 with 1 Axes>"
      ]
     },
     "metadata": {},
     "output_type": "display_data"
    }
   ],
   "source": [
    "mean_log_mass = dcc_log_mass.mean()\n",
    "np_seq = torch.arange(100.)\n",
    "pred_data = {\"neocortex_perc\": np_seq, \"log_mass\": mean_log_mass.expand_as(np_seq)}\n",
    "\n",
    "mu = link(m5_7, data=pred_data, n=int(1e4))\n",
    "mu_mean = mu.mean(0)\n",
    "mu_PI = stats.pi(mu, 0.89, dim=0)\n",
    "\n",
    "ax = sns.scatterplot(dcc_neocortex_perc, dcc_kcal_per_g, visible=False)\n",
    "ax.set(xlabel=\"neocortex.perc\", ylabel=\"kcal.per.g\")\n",
    "sns.lineplot(np_seq[54:78], mu_mean[54:78], color=\"k\")\n",
    "sns.lineplot(np_seq[54:78], mu_PI[0, 54:78], color=\"k\")\n",
    "ax.lines[-1].set_linestyle(\"--\")\n",
    "sns.lineplot(np_seq[54:78], mu_PI[1, 54:78], color=\"k\")\n",
    "ax.lines[-1].set_linestyle(\"--\")"
   ]
  },
  {
   "cell_type": "markdown",
   "metadata": {},
   "source": [
    "### Code 5.28"
   ]
  },
  {
   "cell_type": "code",
   "execution_count": 29,
   "metadata": {},
   "outputs": [],
   "source": [
    "N = 100  # number of cases\n",
    "rho = 0.7  # correlation btw x_pos and x_neg\n",
    "x_pos = torch.randn(N)  # x_pos as Gaussian\n",
    "# x_neg correlated with x_pos\n",
    "x_neg = dist.Normal(rho * x_pos, (1 - rho**2) ** 0.5).sample()\n",
    "y = dist.Normal(x_pos - x_neg, 1).sample()  # y equally associated with x_pos, x_neg\n",
    "d = pd.DataFrame({\"y\": y, \"x_pos\": x_pos, \"x_neg\": x_neg})"
   ]
  },
  {
   "cell_type": "markdown",
   "metadata": {},
   "source": [
    "### Code 5.29"
   ]
  },
  {
   "cell_type": "code",
   "execution_count": 30,
   "metadata": {},
   "outputs": [],
   "source": [
    "N = 100  # number of individuals\n",
    "height = torch.empty(N).normal_(10, 2)  # sim total height of each\n",
    "leg_prop = torch.empty(N).uniform_(0.4, 0.5)  # leg as proportion of height\n",
    "# sim left leg as proportion + error\n",
    "leg_left = leg_prop * height + torch.empty(N).normal_(0, 0.02)\n",
    "# sim right leg as proportion + error\n",
    "leg_right = leg_prop * height + torch.empty(N).normal_(0, 0.02)\n",
    "# combine into data dict\n",
    "d = {\"height\": height, \"leg_left\": leg_left, \"leg_right\": leg_right}"
   ]
  },
  {
   "cell_type": "markdown",
   "metadata": {},
   "source": [
    "### Code 5.30"
   ]
  },
  {
   "cell_type": "code",
   "execution_count": 31,
   "metadata": {},
   "outputs": [
    {
     "data": {
      "text/html": [
       "<div>\n",
       "<style scoped>\n",
       "    .dataframe tbody tr th:only-of-type {\n",
       "        vertical-align: middle;\n",
       "    }\n",
       "\n",
       "    .dataframe tbody tr th {\n",
       "        vertical-align: top;\n",
       "    }\n",
       "\n",
       "    .dataframe thead th {\n",
       "        text-align: right;\n",
       "    }\n",
       "</style>\n",
       "<table border=\"1\" class=\"dataframe\">\n",
       "  <thead>\n",
       "    <tr style=\"text-align: right;\">\n",
       "      <th></th>\n",
       "      <th>Mean</th>\n",
       "      <th>StdDev</th>\n",
       "      <th>|0.89</th>\n",
       "      <th>0.89|</th>\n",
       "    </tr>\n",
       "  </thead>\n",
       "  <tbody>\n",
       "    <tr>\n",
       "      <th>a</th>\n",
       "      <td>1.10</td>\n",
       "      <td>0.32</td>\n",
       "      <td>0.58</td>\n",
       "      <td>1.61</td>\n",
       "    </tr>\n",
       "    <tr>\n",
       "      <th>bl</th>\n",
       "      <td>0.82</td>\n",
       "      <td>2.07</td>\n",
       "      <td>-2.46</td>\n",
       "      <td>4.15</td>\n",
       "    </tr>\n",
       "    <tr>\n",
       "      <th>br</th>\n",
       "      <td>1.16</td>\n",
       "      <td>2.06</td>\n",
       "      <td>-2.13</td>\n",
       "      <td>4.46</td>\n",
       "    </tr>\n",
       "    <tr>\n",
       "      <th>sigma</th>\n",
       "      <td>0.65</td>\n",
       "      <td>0.05</td>\n",
       "      <td>0.58</td>\n",
       "      <td>0.72</td>\n",
       "    </tr>\n",
       "  </tbody>\n",
       "</table>\n",
       "</div>"
      ],
      "text/plain": [
       "       Mean  StdDev  |0.89  0.89|\n",
       "a      1.10    0.32   0.58   1.61\n",
       "bl     0.82    2.07  -2.46   4.15\n",
       "br     1.16    2.06  -2.13   4.46\n",
       "sigma  0.65    0.05   0.58   0.72"
      ]
     },
     "execution_count": 31,
     "metadata": {},
     "output_type": "execute_result"
    }
   ],
   "source": [
    "def model(leg_left, leg_right, height):\n",
    "    a = pyro.sample(\"a\", dist.Normal(10, 100))\n",
    "    bl = pyro.sample(\"bl\", dist.Normal(2, 10))\n",
    "    br = pyro.sample(\"br\", dist.Normal(2, 10))\n",
    "    mu = a + bl * leg_left + br * leg_right\n",
    "    sigma = pyro.sample(\"sigma\", dist.Uniform(0, 10))\n",
    "    with pyro.plate(\"plate\"):\n",
    "        pyro.sample(\"height\", dist.Normal(mu, sigma), obs=height)\n",
    "\n",
    "m5_8 = MAP(model).run(**d)\n",
    "precis(m5_8)"
   ]
  },
  {
   "cell_type": "markdown",
   "metadata": {},
   "source": [
    "### Code 5.31"
   ]
  },
  {
   "cell_type": "code",
   "execution_count": 32,
   "metadata": {},
   "outputs": [
    {
     "data": {
      "image/png": "[encoded data removed]",
      "text/plain": [
       "<Figure size 576x432 with 1 Axes>"
      ]
     },
     "metadata": {},
     "output_type": "display_data"
    }
   ],
   "source": [
    "precis_df = precis(m5_8)\n",
    "sns.pointplot(precis_df[\"Mean\"], precis_df.index, join=False)\n",
    "for i, node in enumerate(precis_df.index):\n",
    "    sns.lineplot(precis_df.loc[node, [\"|0.89\", \"0.89|\"]], [i, i], color=\"k\")"
   ]
  },
  {
   "cell_type": "markdown",
   "metadata": {},
   "source": [
    "### Code 5.32"
   ]
  },
  {
   "cell_type": "code",
   "execution_count": 33,
   "metadata": {},
   "outputs": [
    {
     "data": {
      "image/png": "[encoded data removed]",
      "text/plain": [
       "<Figure size 576x432 with 1 Axes>"
      ]
     },
     "metadata": {},
     "output_type": "display_data"
    }
   ],
   "source": [
    "post = extract_samples(m5_8)\n",
    "sns.scatterplot(\"br\", \"bl\", data=post, alpha=0.1);"
   ]
  },
  {
   "cell_type": "markdown",
   "metadata": {},
   "source": [
    "### Code 5.33"
   ]
  },
  {
   "cell_type": "code",
   "execution_count": 34,
   "metadata": {},
   "outputs": [
    {
     "data": {
      "image/png": "[encoded data removed]",
      "text/plain": [
       "<Figure size 576x432 with 1 Axes>"
      ]
     },
     "metadata": {},
     "output_type": "display_data"
    }
   ],
   "source": [
    "sum_blbr = post[\"bl\"] + post[\"br\"]\n",
    "ax = sns.distplot(sum_blbr)\n",
    "ax.set(xlabel=\"sum of bl and br\", ylabel=\"Density\");"
   ]
  },
  {
   "cell_type": "markdown",
   "metadata": {},
   "source": [
    "### Code 5.34"
   ]
  },
  {
   "cell_type": "code",
   "execution_count": 35,
   "metadata": {},
   "outputs": [
    {
     "data": {
      "text/html": [
       "<div>\n",
       "<style scoped>\n",
       "    .dataframe tbody tr th:only-of-type {\n",
       "        vertical-align: middle;\n",
       "    }\n",
       "\n",
       "    .dataframe tbody tr th {\n",
       "        vertical-align: top;\n",
       "    }\n",
       "\n",
       "    .dataframe thead th {\n",
       "        text-align: right;\n",
       "    }\n",
       "</style>\n",
       "<table border=\"1\" class=\"dataframe\">\n",
       "  <thead>\n",
       "    <tr style=\"text-align: right;\">\n",
       "      <th></th>\n",
       "      <th>Mean</th>\n",
       "      <th>StdDev</th>\n",
       "      <th>|0.89</th>\n",
       "      <th>0.89|</th>\n",
       "    </tr>\n",
       "  </thead>\n",
       "  <tbody>\n",
       "    <tr>\n",
       "      <th>a</th>\n",
       "      <td>1.09</td>\n",
       "      <td>0.32</td>\n",
       "      <td>0.57</td>\n",
       "      <td>1.60</td>\n",
       "    </tr>\n",
       "    <tr>\n",
       "      <th>bl</th>\n",
       "      <td>1.98</td>\n",
       "      <td>0.07</td>\n",
       "      <td>1.86</td>\n",
       "      <td>2.09</td>\n",
       "    </tr>\n",
       "    <tr>\n",
       "      <th>sigma</th>\n",
       "      <td>0.65</td>\n",
       "      <td>0.05</td>\n",
       "      <td>0.58</td>\n",
       "      <td>0.73</td>\n",
       "    </tr>\n",
       "  </tbody>\n",
       "</table>\n",
       "</div>"
      ],
      "text/plain": [
       "       Mean  StdDev  |0.89  0.89|\n",
       "a      1.09    0.32   0.57   1.60\n",
       "bl     1.98    0.07   1.86   2.09\n",
       "sigma  0.65    0.05   0.58   0.73"
      ]
     },
     "execution_count": 35,
     "metadata": {},
     "output_type": "execute_result"
    }
   ],
   "source": [
    "def model(leg_left, height):\n",
    "    a = pyro.sample(\"a\", dist.Normal(10, 100))\n",
    "    bl = pyro.sample(\"bl\", dist.Normal(2, 10))\n",
    "    mu = a + bl * leg_left\n",
    "    sigma = pyro.sample(\"sigma\", dist.Uniform(0, 10))\n",
    "    with pyro.plate(\"plate\"):\n",
    "        pyro.sample(\"height\", dist.Normal(mu, sigma), obs=height)\n",
    "\n",
    "m5_9 = MAP(model).run(leg_left, height)\n",
    "precis(m5_9)"
   ]
  },
  {
   "cell_type": "markdown",
   "metadata": {},
   "source": [
    "### Code 5.35"
   ]
  },
  {
   "cell_type": "code",
   "execution_count": 36,
   "metadata": {},
   "outputs": [],
   "source": [
    "milk = pd.read_csv(\"../data/milk.csv\", sep=\";\")\n",
    "d = milk"
   ]
  },
  {
   "cell_type": "markdown",
   "metadata": {},
   "source": [
    "### Code 5.36"
   ]
  },
  {
   "cell_type": "code",
   "execution_count": 37,
   "metadata": {},
   "outputs": [
    {
     "name": "stdout",
     "output_type": "stream",
     "text": [
      "        Mean  StdDev  |0.89  0.89|\n",
      "a      0.302   0.037  0.243  0.360\n",
      "bf     0.010   0.001  0.008  0.012\n",
      "sigma  0.075   0.010  0.059  0.091\n",
      "        Mean  StdDev  |0.89  0.89|\n",
      "a      1.166   0.043  1.095  1.232\n",
      "bf    -0.011   0.001 -0.012 -0.009\n",
      "sigma  0.063   0.008  0.050  0.077\n"
     ]
    }
   ],
   "source": [
    "# kcal.per.g regressed on perc.fat\n",
    "def model(perc_fat, kcal_per_g):\n",
    "    a = pyro.sample(\"a\", dist.Normal(0.6, 10))\n",
    "    bf = pyro.sample(\"bf\", dist.Normal(0, 1))\n",
    "    mu = a + bf * perc_fat\n",
    "    sigma = pyro.sample(\"sigma\", dist.Uniform(0, 10))\n",
    "    with pyro.plate(\"plate\"):\n",
    "        pyro.sample(\"kcal.per.g\", dist.Normal(mu, sigma), obs=kcal_per_g)\n",
    "\n",
    "perc_fat = torch.tensor(d[\"perc.fat\"], dtype=torch.float)\n",
    "kcal_per_g = torch.tensor(d[\"kcal.per.g\"], dtype=torch.float)\n",
    "m5_10 = MAP(model).run(perc_fat, kcal_per_g)\n",
    "\n",
    "# kcal.per.g regressed on perc.lactose\n",
    "def model(perc_lactose, kcal_per_g):\n",
    "    a = pyro.sample(\"a\", dist.Normal(0.6, 10))\n",
    "    bl = pyro.sample(\"bf\", dist.Normal(0, 1))\n",
    "    mu = a + bl * perc_lactose\n",
    "    sigma = pyro.sample(\"sigma\", dist.Uniform(0, 10))\n",
    "    with pyro.plate(\"plate\"):\n",
    "        pyro.sample(\"kcal.per.g\", dist.Normal(mu, sigma), obs=kcal_per_g)\n",
    "\n",
    "perc_lactose = torch.tensor(d[\"perc.lactose\"], dtype=torch.float)\n",
    "m5_11 = MAP(model).run(perc_lactose, kcal_per_g)\n",
    "\n",
    "print(precis(m5_10, digits=3))\n",
    "print(precis(m5_11, digits=3))"
   ]
  },
  {
   "cell_type": "markdown",
   "metadata": {},
   "source": [
    "### Code 5.37"
   ]
  },
  {
   "cell_type": "code",
   "execution_count": 38,
   "metadata": {},
   "outputs": [
    {
     "data": {
      "text/html": [
       "<div>\n",
       "<style scoped>\n",
       "    .dataframe tbody tr th:only-of-type {\n",
       "        vertical-align: middle;\n",
       "    }\n",
       "\n",
       "    .dataframe tbody tr th {\n",
       "        vertical-align: top;\n",
       "    }\n",
       "\n",
       "    .dataframe thead th {\n",
       "        text-align: right;\n",
       "    }\n",
       "</style>\n",
       "<table border=\"1\" class=\"dataframe\">\n",
       "  <thead>\n",
       "    <tr style=\"text-align: right;\">\n",
       "      <th></th>\n",
       "      <th>Mean</th>\n",
       "      <th>StdDev</th>\n",
       "      <th>|0.89</th>\n",
       "      <th>0.89|</th>\n",
       "    </tr>\n",
       "  </thead>\n",
       "  <tbody>\n",
       "    <tr>\n",
       "      <th>a</th>\n",
       "      <td>1.005</td>\n",
       "      <td>0.203</td>\n",
       "      <td>0.678</td>\n",
       "      <td>1.328</td>\n",
       "    </tr>\n",
       "    <tr>\n",
       "      <th>bf</th>\n",
       "      <td>0.002</td>\n",
       "      <td>0.002</td>\n",
       "      <td>-0.002</td>\n",
       "      <td>0.006</td>\n",
       "    </tr>\n",
       "    <tr>\n",
       "      <th>bl</th>\n",
       "      <td>-0.009</td>\n",
       "      <td>0.002</td>\n",
       "      <td>-0.013</td>\n",
       "      <td>-0.005</td>\n",
       "    </tr>\n",
       "    <tr>\n",
       "      <th>sigma</th>\n",
       "      <td>0.063</td>\n",
       "      <td>0.008</td>\n",
       "      <td>0.050</td>\n",
       "      <td>0.076</td>\n",
       "    </tr>\n",
       "  </tbody>\n",
       "</table>\n",
       "</div>"
      ],
      "text/plain": [
       "        Mean  StdDev  |0.89  0.89|\n",
       "a      1.005   0.203  0.678  1.328\n",
       "bf     0.002   0.002 -0.002  0.006\n",
       "bl    -0.009   0.002 -0.013 -0.005\n",
       "sigma  0.063   0.008  0.050  0.076"
      ]
     },
     "execution_count": 38,
     "metadata": {},
     "output_type": "execute_result"
    }
   ],
   "source": [
    "def model(perc_fat, perc_lactose, kcal_per_g):\n",
    "    a = pyro.sample(\"a\", dist.Normal(0.6, 10))\n",
    "    bf = pyro.sample(\"bf\", dist.Normal(0, 1))\n",
    "    bl = pyro.sample(\"bl\", dist.Normal(0, 1))\n",
    "    mu = a + bf * perc_fat + bl * perc_lactose\n",
    "    sigma = pyro.sample(\"sigma\", dist.Uniform(0, 10))\n",
    "    with pyro.plate(\"plate\"):\n",
    "        pyro.sample(\"kcal.per.g\", dist.Normal(mu, sigma), obs=kcal_per_g)\n",
    "\n",
    "m5_12 = MAP(model).run(perc_fat, perc_lactose, kcal_per_g)\n",
    "precis(m5_12, digits=3)"
   ]
  },
  {
   "cell_type": "markdown",
   "metadata": {},
   "source": [
    "### Code 5.38"
   ]
  },
  {
   "cell_type": "code",
   "execution_count": 39,
   "metadata": {},
   "outputs": [
    {
     "data": {
      "image/png": "[encoded data removed]",
      "text/plain": [
       "<Figure size 540x540 with 12 Axes>"
      ]
     },
     "metadata": {},
     "output_type": "display_data"
    }
   ],
   "source": [
    "sns.pairplot(d[[\"kcal.per.g\", \"perc.fat\", \"perc.lactose\"]]);"
   ]
  },
  {
   "cell_type": "markdown",
   "metadata": {},
   "source": [
    "### Code 5.39"
   ]
  },
  {
   "cell_type": "code",
   "execution_count": 40,
   "metadata": {},
   "outputs": [
    {
     "data": {
      "text/plain": [
       "tensor(-0.9416)"
      ]
     },
     "execution_count": 40,
     "metadata": {},
     "output_type": "execute_result"
    }
   ],
   "source": [
    "perc_fat_s = (perc_fat - perc_fat.mean()) / perc_fat.std()\n",
    "perc_lactose_s = (perc_lactose - perc_lactose.mean()) / perc_lactose.std()\n",
    "perc_fat_s.dot(perc_lactose_s) / (perc_fat_s.size(0) - 1)"
   ]
  },
  {
   "cell_type": "markdown",
   "metadata": {},
   "source": [
    "### Code 5.40"
   ]
  },
  {
   "cell_type": "code",
   "execution_count": 41,
   "metadata": {},
   "outputs": [
    {
     "data": {
      "image/png": "[encoded data removed]",
      "text/plain": [
       "<Figure size 576x432 with 1 Axes>"
      ]
     },
     "metadata": {},
     "output_type": "display_data"
    }
   ],
   "source": [
    "milk = pd.read_csv(\"../data/milk.csv\", sep=\";\")\n",
    "d = milk\n",
    "m = LM(\"kcal.per.g ~ perc.fat\", data=d, num_samples=100)\n",
    "m.model = pyro.do(m.model, data={\"sigma\": 1})\n",
    "m.run()\n",
    "perc_fat = torch.tensor(d[\"perc.fat\"], dtype=torch.float)\n",
    "kcal_per_g = torch.tensor(d[\"kcal.per.g\"], dtype=torch.float)\n",
    "resid = kcal_per_g - (coef(m)[\"Intercept\"] + coef(m)[\"perc.fat\"] * perc_fat)\n",
    "sigma = resid.std()\n",
    "perc_fat_var = perc_fat.var()\n",
    "\n",
    "def sim_coll(r=0.9):\n",
    "    d[\"x\"] = dist.Normal(loc=(r * perc_fat),\n",
    "                         scale=((1 - r**2) * perc_fat_var).sqrt()).sample()\n",
    "    m = LM(\"kcal.per.g ~ perc.fat + x\", data=d, num_samples=10)\n",
    "    m.model = pyro.do(m.model, data={\"sigma\": sigma})\n",
    "    m.run()\n",
    "    return vcov(m).diag().sqrt()[1]  # stddev of parameter\n",
    "\n",
    "def rep_sim_coll(r=0.9, n=100):\n",
    "    stddev = replicate(n, sim_coll, (r,))\n",
    "    return torch.stack(stddev).mean()\n",
    "\n",
    "r_seq = torch.arange(start=0, end=1, step=0.01)\n",
    "stddev = torch.stack([rep_sim_coll(r=z, n=100) for z in r_seq])\n",
    "ax = sns.lineplot(r_seq, stddev)\n",
    "ax.set(xlabel=\"correlation\", ylabel=\"stddev\");"
   ]
  },
  {
   "cell_type": "markdown",
   "metadata": {},
   "source": [
    "### Code 5.41"
   ]
  },
  {
   "cell_type": "code",
   "execution_count": 42,
   "metadata": {},
   "outputs": [],
   "source": [
    "# number of plants\n",
    "N = 100\n",
    "\n",
    "# simulate initial heights\n",
    "h0 = torch.empty(N).normal_(10, 2)\n",
    "\n",
    "# assign treatments and simulate fungus and growth\n",
    "treatment = torch.arange(2.).unsqueeze(1).repeat(1, N // 2).reshape(-1)\n",
    "fungus = dist.Binomial(total_count=1, probs=(0.5 - treatment * 0.4)).sample()\n",
    "h1 = h0 + dist.Normal(5 - 3 * fungus, 1).sample()\n",
    "\n",
    "# compose a clean data dict\n",
    "d = {\"h0\": h0, \"h1\": h1, \"treatment\": treatment, \"fungus\": fungus}"
   ]
  },
  {
   "cell_type": "markdown",
   "metadata": {},
   "source": [
    "### Code 5.42"
   ]
  },
  {
   "cell_type": "code",
   "execution_count": 43,
   "metadata": {},
   "outputs": [
    {
     "data": {
      "text/html": [
       "<div>\n",
       "<style scoped>\n",
       "    .dataframe tbody tr th:only-of-type {\n",
       "        vertical-align: middle;\n",
       "    }\n",
       "\n",
       "    .dataframe tbody tr th {\n",
       "        vertical-align: top;\n",
       "    }\n",
       "\n",
       "    .dataframe thead th {\n",
       "        text-align: right;\n",
       "    }\n",
       "</style>\n",
       "<table border=\"1\" class=\"dataframe\">\n",
       "  <thead>\n",
       "    <tr style=\"text-align: right;\">\n",
       "      <th></th>\n",
       "      <th>Mean</th>\n",
       "      <th>StdDev</th>\n",
       "      <th>|0.89</th>\n",
       "      <th>0.89|</th>\n",
       "    </tr>\n",
       "  </thead>\n",
       "  <tbody>\n",
       "    <tr>\n",
       "      <th>a</th>\n",
       "      <td>5.02</td>\n",
       "      <td>0.44</td>\n",
       "      <td>4.32</td>\n",
       "      <td>5.72</td>\n",
       "    </tr>\n",
       "    <tr>\n",
       "      <th>bh</th>\n",
       "      <td>0.99</td>\n",
       "      <td>0.04</td>\n",
       "      <td>0.93</td>\n",
       "      <td>1.06</td>\n",
       "    </tr>\n",
       "    <tr>\n",
       "      <th>bt</th>\n",
       "      <td>-0.00</td>\n",
       "      <td>0.21</td>\n",
       "      <td>-0.34</td>\n",
       "      <td>0.34</td>\n",
       "    </tr>\n",
       "    <tr>\n",
       "      <th>bf</th>\n",
       "      <td>-3.05</td>\n",
       "      <td>0.23</td>\n",
       "      <td>-3.41</td>\n",
       "      <td>-2.70</td>\n",
       "    </tr>\n",
       "    <tr>\n",
       "      <th>sigma</th>\n",
       "      <td>0.98</td>\n",
       "      <td>0.07</td>\n",
       "      <td>0.87</td>\n",
       "      <td>1.09</td>\n",
       "    </tr>\n",
       "  </tbody>\n",
       "</table>\n",
       "</div>"
      ],
      "text/plain": [
       "       Mean  StdDev  |0.89  0.89|\n",
       "a      5.02    0.44   4.32   5.72\n",
       "bh     0.99    0.04   0.93   1.06\n",
       "bt    -0.00    0.21  -0.34   0.34\n",
       "bf    -3.05    0.23  -3.41  -2.70\n",
       "sigma  0.98    0.07   0.87   1.09"
      ]
     },
     "execution_count": 43,
     "metadata": {},
     "output_type": "execute_result"
    }
   ],
   "source": [
    "def model(h0, treatment, fungus, h1):\n",
    "    a = pyro.sample(\"a\", dist.Normal(0, 100))\n",
    "    bh = pyro.sample(\"bh\", dist.Normal(0, 10))\n",
    "    bt = pyro.sample(\"bt\", dist.Normal(0, 10))\n",
    "    bf = pyro.sample(\"bf\", dist.Normal(0, 10))\n",
    "    mu = a + bh * h0 + bt * treatment + bf * fungus\n",
    "    sigma = pyro.sample(\"sigma\", dist.Uniform(0, 10))\n",
    "    with pyro.plate(\"plate\"):\n",
    "        pyro.sample(\"h1\", dist.Normal(mu, sigma), obs=h1)\n",
    "\n",
    "m5_13 = MAP(model).run(**d)\n",
    "precis(m5_13)"
   ]
  },
  {
   "cell_type": "markdown",
   "metadata": {},
   "source": [
    "### Code 5.43"
   ]
  },
  {
   "cell_type": "code",
   "execution_count": 44,
   "metadata": {},
   "outputs": [
    {
     "data": {
      "text/html": [
       "<div>\n",
       "<style scoped>\n",
       "    .dataframe tbody tr th:only-of-type {\n",
       "        vertical-align: middle;\n",
       "    }\n",
       "\n",
       "    .dataframe tbody tr th {\n",
       "        vertical-align: top;\n",
       "    }\n",
       "\n",
       "    .dataframe thead th {\n",
       "        text-align: right;\n",
       "    }\n",
       "</style>\n",
       "<table border=\"1\" class=\"dataframe\">\n",
       "  <thead>\n",
       "    <tr style=\"text-align: right;\">\n",
       "      <th></th>\n",
       "      <th>Mean</th>\n",
       "      <th>StdDev</th>\n",
       "      <th>|0.89</th>\n",
       "      <th>0.89|</th>\n",
       "    </tr>\n",
       "  </thead>\n",
       "  <tbody>\n",
       "    <tr>\n",
       "      <th>a</th>\n",
       "      <td>4.21</td>\n",
       "      <td>0.74</td>\n",
       "      <td>3.02</td>\n",
       "      <td>5.37</td>\n",
       "    </tr>\n",
       "    <tr>\n",
       "      <th>bh</th>\n",
       "      <td>0.91</td>\n",
       "      <td>0.07</td>\n",
       "      <td>0.80</td>\n",
       "      <td>1.03</td>\n",
       "    </tr>\n",
       "    <tr>\n",
       "      <th>bt</th>\n",
       "      <td>1.13</td>\n",
       "      <td>0.33</td>\n",
       "      <td>0.58</td>\n",
       "      <td>1.64</td>\n",
       "    </tr>\n",
       "    <tr>\n",
       "      <th>sigma</th>\n",
       "      <td>1.66</td>\n",
       "      <td>0.12</td>\n",
       "      <td>1.47</td>\n",
       "      <td>1.84</td>\n",
       "    </tr>\n",
       "  </tbody>\n",
       "</table>\n",
       "</div>"
      ],
      "text/plain": [
       "       Mean  StdDev  |0.89  0.89|\n",
       "a      4.21    0.74   3.02   5.37\n",
       "bh     0.91    0.07   0.80   1.03\n",
       "bt     1.13    0.33   0.58   1.64\n",
       "sigma  1.66    0.12   1.47   1.84"
      ]
     },
     "execution_count": 44,
     "metadata": {},
     "output_type": "execute_result"
    }
   ],
   "source": [
    "def model(h0, treatment, h1):\n",
    "    a = pyro.sample(\"a\", dist.Normal(0, 100))\n",
    "    bh = pyro.sample(\"bh\", dist.Normal(0, 10))\n",
    "    bt = pyro.sample(\"bt\", dist.Normal(0, 10))\n",
    "    mu = a + bh * h0 + bt * treatment\n",
    "    sigma = pyro.sample(\"sigma\", dist.Uniform(0, 10))\n",
    "    with pyro.plate(\"plate\"):\n",
    "        pyro.sample(\"h1\", dist.Normal(mu, sigma), obs=h1)\n",
    "\n",
    "m5_14 = MAP(model).run(h0, treatment, h1)\n",
    "precis(m5_14)"
   ]
  },
  {
   "cell_type": "markdown",
   "metadata": {},
   "source": [
    "### Code 5.44"
   ]
  },
  {
   "cell_type": "code",
   "execution_count": 45,
   "metadata": {},
   "outputs": [
    {
     "name": "stdout",
     "output_type": "stream",
     "text": [
      "<class 'pandas.core.frame.DataFrame'>\n",
      "RangeIndex: 544 entries, 0 to 543\n",
      "Data columns (total 4 columns):\n",
      "height    544 non-null float64\n",
      "weight    544 non-null float64\n",
      "age       544 non-null float64\n",
      "male      544 non-null int64\n",
      "dtypes: float64(3), int64(1)\n",
      "memory usage: 17.1 KB\n"
     ]
    },
    {
     "data": {
      "text/html": [
       "<div>\n",
       "<style scoped>\n",
       "    .dataframe tbody tr th:only-of-type {\n",
       "        vertical-align: middle;\n",
       "    }\n",
       "\n",
       "    .dataframe tbody tr th {\n",
       "        vertical-align: top;\n",
       "    }\n",
       "\n",
       "    .dataframe thead th {\n",
       "        text-align: right;\n",
       "    }\n",
       "</style>\n",
       "<table border=\"1\" class=\"dataframe\">\n",
       "  <thead>\n",
       "    <tr style=\"text-align: right;\">\n",
       "      <th></th>\n",
       "      <th>height</th>\n",
       "      <th>weight</th>\n",
       "      <th>age</th>\n",
       "      <th>male</th>\n",
       "    </tr>\n",
       "  </thead>\n",
       "  <tbody>\n",
       "    <tr>\n",
       "      <th>0</th>\n",
       "      <td>151.765</td>\n",
       "      <td>47.825606</td>\n",
       "      <td>63.0</td>\n",
       "      <td>1</td>\n",
       "    </tr>\n",
       "    <tr>\n",
       "      <th>1</th>\n",
       "      <td>139.700</td>\n",
       "      <td>36.485807</td>\n",
       "      <td>63.0</td>\n",
       "      <td>0</td>\n",
       "    </tr>\n",
       "    <tr>\n",
       "      <th>2</th>\n",
       "      <td>136.525</td>\n",
       "      <td>31.864838</td>\n",
       "      <td>65.0</td>\n",
       "      <td>0</td>\n",
       "    </tr>\n",
       "    <tr>\n",
       "      <th>3</th>\n",
       "      <td>156.845</td>\n",
       "      <td>53.041915</td>\n",
       "      <td>41.0</td>\n",
       "      <td>1</td>\n",
       "    </tr>\n",
       "    <tr>\n",
       "      <th>4</th>\n",
       "      <td>145.415</td>\n",
       "      <td>41.276872</td>\n",
       "      <td>51.0</td>\n",
       "      <td>0</td>\n",
       "    </tr>\n",
       "  </tbody>\n",
       "</table>\n",
       "</div>"
      ],
      "text/plain": [
       "    height     weight   age  male\n",
       "0  151.765  47.825606  63.0     1\n",
       "1  139.700  36.485807  63.0     0\n",
       "2  136.525  31.864838  65.0     0\n",
       "3  156.845  53.041915  41.0     1\n",
       "4  145.415  41.276872  51.0     0"
      ]
     },
     "execution_count": 45,
     "metadata": {},
     "output_type": "execute_result"
    }
   ],
   "source": [
    "howell1 = pd.read_csv(\"../data/Howell1.csv\", sep=\";\")\n",
    "d = howell1\n",
    "d.info()\n",
    "d.head()"
   ]
  },
  {
   "cell_type": "markdown",
   "metadata": {},
   "source": [
    "### Code 5.45"
   ]
  },
  {
   "cell_type": "code",
   "execution_count": 46,
   "metadata": {},
   "outputs": [
    {
     "data": {
      "text/html": [
       "<div>\n",
       "<style scoped>\n",
       "    .dataframe tbody tr th:only-of-type {\n",
       "        vertical-align: middle;\n",
       "    }\n",
       "\n",
       "    .dataframe tbody tr th {\n",
       "        vertical-align: top;\n",
       "    }\n",
       "\n",
       "    .dataframe thead th {\n",
       "        text-align: right;\n",
       "    }\n",
       "</style>\n",
       "<table border=\"1\" class=\"dataframe\">\n",
       "  <thead>\n",
       "    <tr style=\"text-align: right;\">\n",
       "      <th></th>\n",
       "      <th>Mean</th>\n",
       "      <th>StdDev</th>\n",
       "      <th>|0.89</th>\n",
       "      <th>0.89|</th>\n",
       "    </tr>\n",
       "  </thead>\n",
       "  <tbody>\n",
       "    <tr>\n",
       "      <th>a</th>\n",
       "      <td>134.82</td>\n",
       "      <td>1.59</td>\n",
       "      <td>132.36</td>\n",
       "      <td>137.43</td>\n",
       "    </tr>\n",
       "    <tr>\n",
       "      <th>bm</th>\n",
       "      <td>7.27</td>\n",
       "      <td>2.29</td>\n",
       "      <td>3.72</td>\n",
       "      <td>11.00</td>\n",
       "    </tr>\n",
       "    <tr>\n",
       "      <th>sigma</th>\n",
       "      <td>27.30</td>\n",
       "      <td>0.82</td>\n",
       "      <td>25.91</td>\n",
       "      <td>28.53</td>\n",
       "    </tr>\n",
       "  </tbody>\n",
       "</table>\n",
       "</div>"
      ],
      "text/plain": [
       "         Mean  StdDev   |0.89   0.89|\n",
       "a      134.82    1.59  132.36  137.43\n",
       "bm       7.27    2.29    3.72   11.00\n",
       "sigma   27.30    0.82   25.91   28.53"
      ]
     },
     "execution_count": 46,
     "metadata": {},
     "output_type": "execute_result"
    }
   ],
   "source": [
    "def model(male, height):\n",
    "    a = pyro.sample(\"a\", dist.Normal(178, 100))\n",
    "    bm = pyro.sample(\"bm\", dist.Normal(0, 10))\n",
    "    mu = a + bm * male\n",
    "    sigma = pyro.sample(\"sigma\", dist.Uniform(0, 50))\n",
    "    with pyro.plate(\"plate\"):\n",
    "        pyro.sample(\"height\", dist.Normal(mu, sigma), obs=height)\n",
    "\n",
    "male = torch.tensor(d[\"male\"], dtype=torch.float)\n",
    "height = torch.tensor(d[\"height\"], dtype=torch.float)\n",
    "m5_15 = MAP(model).run(male, height)\n",
    "precis(m5_15)"
   ]
  },
  {
   "cell_type": "markdown",
   "metadata": {},
   "source": [
    "### Code 5.46"
   ]
  },
  {
   "cell_type": "code",
   "execution_count": 47,
   "metadata": {},
   "outputs": [
    {
     "data": {
      "text/plain": [
       "tensor([139.4144, 144.7264])"
      ]
     },
     "execution_count": 47,
     "metadata": {},
     "output_type": "execute_result"
    }
   ],
   "source": [
    "post = extract_samples(m5_15)\n",
    "mu_male = post[\"a\"] + post[\"bm\"]\n",
    "stats.pi(mu_male, 0.89)"
   ]
  },
  {
   "cell_type": "markdown",
   "metadata": {},
   "source": [
    "### Code 5.47"
   ]
  },
  {
   "cell_type": "code",
   "execution_count": 48,
   "metadata": {},
   "outputs": [],
   "source": [
    "def model(male, height):\n",
    "    af = pyro.sample(\"af\", dist.Normal(178, 100))\n",
    "    am = pyro.sample(\"am\", dist.Normal(178, 100))\n",
    "    mu = af * (1 - male) + am * male\n",
    "    sigma = pyro.sample(\"sigma\", dist.Uniform(0, 50))\n",
    "    with pyro.plate(\"plate\"):\n",
    "        pyro.sample(\"height\", dist.Normal(mu, sigma), obs=height)\n",
    "\n",
    "m5_15b = MAP(model).run(male, height)"
   ]
  },
  {
   "cell_type": "markdown",
   "metadata": {},
   "source": [
    "### Code 5.48"
   ]
  },
  {
   "cell_type": "code",
   "execution_count": 49,
   "metadata": {},
   "outputs": [
    {
     "data": {
      "text/plain": [
       "['Strepsirrhine', 'New World Monkey', 'Old World Monkey', 'Ape']"
      ]
     },
     "execution_count": 49,
     "metadata": {},
     "output_type": "execute_result"
    }
   ],
   "source": [
    "milk = pd.read_csv(\"../data/milk.csv\", sep=\";\")\n",
    "d = milk\n",
    "d[\"clade\"].unique().tolist()"
   ]
  },
  {
   "cell_type": "markdown",
   "metadata": {},
   "source": [
    "### Code 5.49"
   ]
  },
  {
   "cell_type": "code",
   "execution_count": 50,
   "metadata": {},
   "outputs": [
    {
     "data": {
      "text/plain": [
       "tensor([0., 0., 0., 0., 0., 1., 1., 1., 1., 1., 1., 1., 1., 1., 0., 0., 0., 0.,\n",
       "        0., 0., 0., 0., 0., 0., 0., 0., 0., 0., 0.])"
      ]
     },
     "execution_count": 50,
     "metadata": {},
     "output_type": "execute_result"
    }
   ],
   "source": [
    "clade_NWM = torch.tensor(d[\"clade\"] == \"New World Monkey\", dtype=torch.float)\n",
    "clade_NWM"
   ]
  },
  {
   "cell_type": "markdown",
   "metadata": {},
   "source": [
    "### Code 5.50"
   ]
  },
  {
   "cell_type": "code",
   "execution_count": 51,
   "metadata": {},
   "outputs": [],
   "source": [
    "clade_OWM = torch.tensor(d[\"clade\"] == \"Old World Monkey\", dtype=torch.float)\n",
    "clade_S = torch.tensor(d[\"clade\"] == \"Strepsirrhine\", dtype=torch.float)"
   ]
  },
  {
   "cell_type": "markdown",
   "metadata": {},
   "source": [
    "### Code 5.51"
   ]
  },
  {
   "cell_type": "code",
   "execution_count": 52,
   "metadata": {},
   "outputs": [
    {
     "data": {
      "text/html": [
       "<div>\n",
       "<style scoped>\n",
       "    .dataframe tbody tr th:only-of-type {\n",
       "        vertical-align: middle;\n",
       "    }\n",
       "\n",
       "    .dataframe tbody tr th {\n",
       "        vertical-align: top;\n",
       "    }\n",
       "\n",
       "    .dataframe thead th {\n",
       "        text-align: right;\n",
       "    }\n",
       "</style>\n",
       "<table border=\"1\" class=\"dataframe\">\n",
       "  <thead>\n",
       "    <tr style=\"text-align: right;\">\n",
       "      <th></th>\n",
       "      <th>Mean</th>\n",
       "      <th>StdDev</th>\n",
       "      <th>|0.89</th>\n",
       "      <th>0.89|</th>\n",
       "    </tr>\n",
       "  </thead>\n",
       "  <tbody>\n",
       "    <tr>\n",
       "      <th>a</th>\n",
       "      <td>0.55</td>\n",
       "      <td>0.04</td>\n",
       "      <td>0.48</td>\n",
       "      <td>0.61</td>\n",
       "    </tr>\n",
       "    <tr>\n",
       "      <th>b.NWM</th>\n",
       "      <td>0.17</td>\n",
       "      <td>0.05</td>\n",
       "      <td>0.08</td>\n",
       "      <td>0.25</td>\n",
       "    </tr>\n",
       "    <tr>\n",
       "      <th>b.OWM</th>\n",
       "      <td>0.24</td>\n",
       "      <td>0.06</td>\n",
       "      <td>0.15</td>\n",
       "      <td>0.34</td>\n",
       "    </tr>\n",
       "    <tr>\n",
       "      <th>b.S</th>\n",
       "      <td>-0.04</td>\n",
       "      <td>0.06</td>\n",
       "      <td>-0.14</td>\n",
       "      <td>0.07</td>\n",
       "    </tr>\n",
       "    <tr>\n",
       "      <th>sigma</th>\n",
       "      <td>0.12</td>\n",
       "      <td>0.02</td>\n",
       "      <td>0.09</td>\n",
       "      <td>0.14</td>\n",
       "    </tr>\n",
       "  </tbody>\n",
       "</table>\n",
       "</div>"
      ],
      "text/plain": [
       "       Mean  StdDev  |0.89  0.89|\n",
       "a      0.55    0.04   0.48   0.61\n",
       "b.NWM  0.17    0.05   0.08   0.25\n",
       "b.OWM  0.24    0.06   0.15   0.34\n",
       "b.S   -0.04    0.06  -0.14   0.07\n",
       "sigma  0.12    0.02   0.09   0.14"
      ]
     },
     "execution_count": 52,
     "metadata": {},
     "output_type": "execute_result"
    }
   ],
   "source": [
    "def model(clade_NWM, clade_OWM, clade_S, kcal_per_g):\n",
    "    a = pyro.sample(\"a\", dist.Normal(0.6, 10))\n",
    "    b_NWM = pyro.sample(\"b.NWM\", dist.Normal(0, 1))\n",
    "    b_OWM = pyro.sample(\"b.OWM\", dist.Normal(0, 1))\n",
    "    b_S = pyro.sample(\"b.S\", dist.Normal(0, 1))\n",
    "    mu = a + b_NWM * clade_NWM + b_OWM * clade_OWM + b_S * clade_S\n",
    "    sigma = pyro.sample(\"sigma\", dist.Uniform(0, 10))\n",
    "    with pyro.plate(\"plate\"):\n",
    "        pyro.sample(\"kcal.per.g\", dist.Normal(mu, sigma), obs=kcal_per_g)\n",
    "\n",
    "kcal_per_g = torch.tensor(d[\"kcal.per.g\"], dtype=torch.float)\n",
    "m5_16 = MAP(model).run(clade_NWM, clade_OWM, clade_S, kcal_per_g)\n",
    "precis(m5_16)"
   ]
  },
  {
   "cell_type": "markdown",
   "metadata": {},
   "source": [
    "### Code 5.52"
   ]
  },
  {
   "cell_type": "code",
   "execution_count": 53,
   "metadata": {},
   "outputs": [
    {
     "data": {
      "text/html": [
       "<div>\n",
       "<style scoped>\n",
       "    .dataframe tbody tr th:only-of-type {\n",
       "        vertical-align: middle;\n",
       "    }\n",
       "\n",
       "    .dataframe tbody tr th {\n",
       "        vertical-align: top;\n",
       "    }\n",
       "\n",
       "    .dataframe thead th {\n",
       "        text-align: right;\n",
       "    }\n",
       "</style>\n",
       "<table border=\"1\" class=\"dataframe\">\n",
       "  <thead>\n",
       "    <tr style=\"text-align: right;\">\n",
       "      <th></th>\n",
       "      <th>Mean</th>\n",
       "      <th>StdDev</th>\n",
       "      <th>|0.89</th>\n",
       "      <th>0.89|</th>\n",
       "    </tr>\n",
       "  </thead>\n",
       "  <tbody>\n",
       "    <tr>\n",
       "      <th>mu.ape</th>\n",
       "      <td>0.55</td>\n",
       "      <td>0.04</td>\n",
       "      <td>0.48</td>\n",
       "      <td>0.61</td>\n",
       "    </tr>\n",
       "    <tr>\n",
       "      <th>mu.NWM</th>\n",
       "      <td>0.71</td>\n",
       "      <td>0.04</td>\n",
       "      <td>0.65</td>\n",
       "      <td>0.77</td>\n",
       "    </tr>\n",
       "    <tr>\n",
       "      <th>mu.OWM</th>\n",
       "      <td>0.79</td>\n",
       "      <td>0.05</td>\n",
       "      <td>0.72</td>\n",
       "      <td>0.87</td>\n",
       "    </tr>\n",
       "    <tr>\n",
       "      <th>mu.S</th>\n",
       "      <td>0.51</td>\n",
       "      <td>0.05</td>\n",
       "      <td>0.43</td>\n",
       "      <td>0.59</td>\n",
       "    </tr>\n",
       "  </tbody>\n",
       "</table>\n",
       "</div>"
      ],
      "text/plain": [
       "        Mean  StdDev  |0.89  0.89|\n",
       "mu.ape  0.55    0.04   0.48   0.61\n",
       "mu.NWM  0.71    0.04   0.65   0.77\n",
       "mu.OWM  0.79    0.05   0.72   0.87\n",
       "mu.S    0.51    0.05   0.43   0.59"
      ]
     },
     "execution_count": 53,
     "metadata": {},
     "output_type": "execute_result"
    }
   ],
   "source": [
    "# sample posterior\n",
    "post = extract_samples(m5_16)\n",
    "\n",
    "# compute averages for each category\n",
    "mu_ape = post[\"a\"]\n",
    "mu_NWM = post[\"a\"] + post[\"b.NWM\"]\n",
    "mu_OWM = post[\"a\"] + post[\"b.OWM\"]\n",
    "mu_S = post[\"a\"] + post[\"b.S\"]\n",
    "\n",
    "# summarize using precis\n",
    "precis({\"mu.ape\": mu_ape, \"mu.NWM\": mu_NWM, \"mu.OWM\": mu_OWM, \"mu.S\": mu_S})"
   ]
  },
  {
   "cell_type": "markdown",
   "metadata": {},
   "source": [
    "### Code 5.53"
   ]
  },
  {
   "cell_type": "code",
   "execution_count": 54,
   "metadata": {},
   "outputs": [
    {
     "data": {
      "text/plain": [
       "tensor([-0.1938, -0.0733,  0.0447])"
      ]
     },
     "execution_count": 54,
     "metadata": {},
     "output_type": "execute_result"
    }
   ],
   "source": [
    "diff_NWM_OWM = mu_NWM - mu_OWM\n",
    "stats.quantile(diff_NWM_OWM, probs=(0.025, 0.5, 0.975))"
   ]
  },
  {
   "cell_type": "markdown",
   "metadata": {},
   "source": [
    "### Code 5.54"
   ]
  },
  {
   "cell_type": "code",
   "execution_count": 55,
   "metadata": {},
   "outputs": [
    {
     "data": {
      "text/plain": [
       "tensor([3, 3, 3, 3, 3, 1, 1, 1, 1, 1, 1, 1, 1, 1, 2, 2, 2, 2, 2, 2, 0, 0, 0, 0,\n",
       "        0, 0, 0, 0, 0])"
      ]
     },
     "execution_count": 55,
     "metadata": {},
     "output_type": "execute_result"
    }
   ],
   "source": [
    "clade_id = torch.tensor(d[\"clade\"].astype(\"category\").cat.codes, dtype=torch.long)\n",
    "clade_id"
   ]
  },
  {
   "cell_type": "markdown",
   "metadata": {},
   "source": [
    "### Code 5.55"
   ]
  },
  {
   "cell_type": "code",
   "execution_count": 56,
   "metadata": {},
   "outputs": [
    {
     "data": {
      "text/html": [
       "<div>\n",
       "<style scoped>\n",
       "    .dataframe tbody tr th:only-of-type {\n",
       "        vertical-align: middle;\n",
       "    }\n",
       "\n",
       "    .dataframe tbody tr th {\n",
       "        vertical-align: top;\n",
       "    }\n",
       "\n",
       "    .dataframe thead th {\n",
       "        text-align: right;\n",
       "    }\n",
       "</style>\n",
       "<table border=\"1\" class=\"dataframe\">\n",
       "  <thead>\n",
       "    <tr style=\"text-align: right;\">\n",
       "      <th></th>\n",
       "      <th>Mean</th>\n",
       "      <th>StdDev</th>\n",
       "      <th>|0.89</th>\n",
       "      <th>0.89|</th>\n",
       "    </tr>\n",
       "  </thead>\n",
       "  <tbody>\n",
       "    <tr>\n",
       "      <th>a[0]</th>\n",
       "      <td>0.55</td>\n",
       "      <td>0.04</td>\n",
       "      <td>0.48</td>\n",
       "      <td>0.61</td>\n",
       "    </tr>\n",
       "    <tr>\n",
       "      <th>a[1]</th>\n",
       "      <td>0.71</td>\n",
       "      <td>0.04</td>\n",
       "      <td>0.65</td>\n",
       "      <td>0.78</td>\n",
       "    </tr>\n",
       "    <tr>\n",
       "      <th>a[2]</th>\n",
       "      <td>0.79</td>\n",
       "      <td>0.05</td>\n",
       "      <td>0.71</td>\n",
       "      <td>0.86</td>\n",
       "    </tr>\n",
       "    <tr>\n",
       "      <th>a[3]</th>\n",
       "      <td>0.51</td>\n",
       "      <td>0.05</td>\n",
       "      <td>0.43</td>\n",
       "      <td>0.59</td>\n",
       "    </tr>\n",
       "    <tr>\n",
       "      <th>sigma</th>\n",
       "      <td>0.12</td>\n",
       "      <td>0.02</td>\n",
       "      <td>0.09</td>\n",
       "      <td>0.14</td>\n",
       "    </tr>\n",
       "  </tbody>\n",
       "</table>\n",
       "</div>"
      ],
      "text/plain": [
       "       Mean  StdDev  |0.89  0.89|\n",
       "a[0]   0.55    0.04   0.48   0.61\n",
       "a[1]   0.71    0.04   0.65   0.78\n",
       "a[2]   0.79    0.05   0.71   0.86\n",
       "a[3]   0.51    0.05   0.43   0.59\n",
       "sigma  0.12    0.02   0.09   0.14"
      ]
     },
     "execution_count": 56,
     "metadata": {},
     "output_type": "execute_result"
    }
   ],
   "source": [
    "milk = pd.read_csv(\"../data/milk.csv\", sep=\";\")\n",
    "d = milk\n",
    "d[\"clade\"].unique().tolist()\n",
    "kcal_per_g = torch.tensor(d[\"kcal.per.g\"], dtype=torch.float)\n",
    "clade_id = torch.tensor(d[\"clade\"].astype(\"category\").cat.codes, dtype=torch.long)\n",
    "def model(clade_id, kcal_per_g):\n",
    "    with pyro.plate(\"plate_a\", clade_id.unique().size(0)):\n",
    "        a = pyro.sample(\"a\", dist.Normal(0.6, 10))\n",
    "    mu = a[clade_id]\n",
    "    sigma = pyro.sample(\"sigma\", dist.Uniform(0, 10))\n",
    "    with pyro.plate(\"plate\"):\n",
    "        pyro.sample(\"kcal.per.g\", dist.Normal(mu, sigma), obs=kcal_per_g)\n",
    "\n",
    "m5_16_alt = MAP(model).run(clade_id, kcal_per_g)\n",
    "precis(m5_16_alt)"
   ]
  },
  {
   "cell_type": "markdown",
   "metadata": {},
   "source": [
    "### Code 5.56"
   ]
  },
  {
   "cell_type": "markdown",
   "metadata": {},
   "source": [
    "```python\n",
    "m5_17 = LM(\"y ~ 1 + x\", data=d).run()\n",
    "m5_18 = LM(\"y ~ 1 + x + z + w\", data=d).run()\n",
    "```"
   ]
  },
  {
   "cell_type": "markdown",
   "metadata": {},
   "source": [
    "### Code 5.57"
   ]
  },
  {
   "cell_type": "markdown",
   "metadata": {},
   "source": [
    "```python\n",
    "m5_17 = LM(\"y ~ 1 + x\", data=d).run()\n",
    "m5_19 = LM(\"y ~ x\", data=d).run()\n",
    "```"
   ]
  },
  {
   "cell_type": "markdown",
   "metadata": {},
   "source": [
    "### Code 5.58"
   ]
  },
  {
   "cell_type": "markdown",
   "metadata": {},
   "source": [
    "```python\n",
    "m5_20 = LM(\"y ~ 0 + x\", data=d).run()\n",
    "m5_21 = LM(\"y ~ x + 0\", data=d).run()\n",
    "```"
   ]
  },
  {
   "cell_type": "markdown",
   "metadata": {},
   "source": [
    "### Code 5.59"
   ]
  },
  {
   "cell_type": "markdown",
   "metadata": {},
   "source": [
    "```python\n",
    "m5_22 = LM(\"y ~ 1 + C(season)\", data=d).run()\n",
    "```"
   ]
  },
  {
   "cell_type": "markdown",
   "metadata": {},
   "source": [
    "### Code 5.60"
   ]
  },
  {
   "cell_type": "markdown",
   "metadata": {},
   "source": [
    "```python\n",
    "d[\"x2\"] = d[\"x\"] ** 2\n",
    "d[\"x3\"] = d[\"x\"] ** 3\n",
    "m5_23 = LM(\"y ~ 1 + x + x2 + x3\", data=d).run()\n",
    "```"
   ]
  },
  {
   "cell_type": "markdown",
   "metadata": {},
   "source": [
    "### Code 5.61"
   ]
  },
  {
   "cell_type": "markdown",
   "metadata": {},
   "source": [
    "```python\n",
    "m5_24 = LM(\"y ~ 1 + x + I(x ** 2) + I(x ** 3)\", data=d).run()\n",
    "```"
   ]
  },
  {
   "cell_type": "markdown",
   "metadata": {},
   "source": [
    "### Code 5.62"
   ]
  },
  {
   "cell_type": "code",
   "execution_count": 57,
   "metadata": {},
   "outputs": [
    {
     "name": "stdout",
     "output_type": "stream",
     "text": [
      "def model(speed, dist):\n",
      "    intercept = pyro.sample('Intercept', dist.Normal(0, 10))\n",
      "    b_speed = pyro.sample('speed', dist.Normal(0, 10))\n",
      "    mu = intercept + b_speed * speed\n",
      "    sigma = pyro.sample('sigma', dist.HalfCauchy(2))\n",
      "    with pyro.plate('plate'):\n",
      "        return pyro.sample('dist', dist.Normal(mu, sigma), obs=dist)\n"
     ]
    }
   ],
   "source": [
    "cars = pd.read_csv(\"../data/cars.csv\")\n",
    "glimmer(\"dist ~ speed\", data=cars)"
   ]
  }
 ],
 "metadata": {
  "kernelspec": {
   "display_name": "Python 3",
   "language": "python",
   "name": "python3"
  },
  "language_info": {
   "codemirror_mode": {
    "name": "ipython",
    "version": 3
   },
   "file_extension": ".py",
   "mimetype": "text/x-python",
   "name": "python",
   "nbconvert_exporter": "python",
   "pygments_lexer": "ipython3",
   "version": "3.7.3"
  }
 },
 "nbformat": 4,
 "nbformat_minor": 4
}
