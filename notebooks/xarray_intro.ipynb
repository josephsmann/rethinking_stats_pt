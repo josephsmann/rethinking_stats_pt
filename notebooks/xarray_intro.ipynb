{
 "cells": [
  {
   "cell_type": "code",
   "execution_count": 12,
   "metadata": {},
   "outputs": [],
   "source": [
    "import xarray as xr\n",
    "import numpy as np\n",
    "import torch"
   ]
  },
  {
   "cell_type": "markdown",
   "metadata": {},
   "source": [
    "# XArray\n",
    "\n",
    "What its good for: we lose integer indexing and integer axis, and gain named everything we want. \n",
    "\n",
    "Pandas DataFrames have only two axes, sometimes we need more. And it helps if they have names instead of number. eg. we don't give our variables names like \"3\", why would we do that for a axis (dimension).\n",
    "\n",
    "A benefit of this is that when we have binary operations between structures with differing dimensions, the new structure will have an axis for each dimension.\n",
    "\n",
    "Eg. ` a = {'temp': 28 30 11}, b = {'time', 5 7}`\n",
    "\n",
    "then $a \\times b$ will have a shape of $3 \\times 2$ with dimensions of `temp` and `time`.\n",
    "\n",
    "As a bonus, given that DataArray and Dataset are generalizations of Series and DataFrames we can go back and forth quite easily (I think). Seems to work for 2 dim structs but borks on more (could be me).\n",
    "\n",
    "Datasets are cool too. they are a dict of DataArrays and use a common indexing structure. Of note, some of the DataArrays may be subspaces of others but they all can be referenced with the same indices. The smaller structures get inflated to occupy the larger space.\n",
    "\n",
    "# DataArray"
   ]
  },
  {
   "cell_type": "code",
   "execution_count": 4,
   "metadata": {},
   "outputs": [
    {
     "data": {
      "text/plain": [
       "<xarray.DataArray (x: 2, y: 3)>\n",
       "array([[0.587723, 0.504564, 0.075407],\n",
       "       [0.072651, 0.366445, 0.261264]])\n",
       "Coordinates:\n",
       "  * x        (x) int64 2 5\n",
       "  * y        (y) int64 3 6 7"
      ]
     },
     "execution_count": 4,
     "metadata": {},
     "output_type": "execute_result"
    }
   ],
   "source": [
    "a = xr.DataArray(np.random.rand(2,3), dims=['x','y'], coords={'x':[2,5],'y':[3,6,7]})\n",
    "a"
   ]
  },
  {
   "cell_type": "code",
   "execution_count": 5,
   "metadata": {},
   "outputs": [
    {
     "data": {
      "text/plain": [
       "<xarray.DataArray (x: 2, y: 3)>\n",
       "array([[0.162281, 0.518604, 0.843994],\n",
       "       [0.646497, 0.221922, 0.067562]])\n",
       "Coordinates:\n",
       "  * x        (x) int64 2 5\n",
       "  * y        (y) int64 3 6 7"
      ]
     },
     "execution_count": 5,
     "metadata": {},
     "output_type": "execute_result"
    }
   ],
   "source": [
    "b = xr.DataArray(np.random.rand(2,3), dims=['x','y'], coords={'x':[2,5],'y':[3,6,7]})\n",
    "b"
   ]
  },
  {
   "cell_type": "code",
   "execution_count": 6,
   "metadata": {},
   "outputs": [
    {
     "data": {
      "text/plain": [
       "<xarray.DataArray (x: 2, y: 3)>\n",
       "array([[0.095376, 0.261669, 0.063643],\n",
       "       [0.046968, 0.081322, 0.017652]])\n",
       "Coordinates:\n",
       "  * x        (x) int64 2 5\n",
       "  * y        (y) int64 3 6 7"
      ]
     },
     "execution_count": 6,
     "metadata": {},
     "output_type": "execute_result"
    }
   ],
   "source": [
    "a * b"
   ]
  },
  {
   "cell_type": "code",
   "execution_count": 7,
   "metadata": {},
   "outputs": [
    {
     "data": {
      "text/plain": [
       "<xarray.DataArray (z: 2, y: 3)>\n",
       "array([[0.546055, 0.057681, 0.536134],\n",
       "       [0.378684, 0.630938, 0.557293]])\n",
       "Coordinates:\n",
       "  * z        (z) int64 2 5\n",
       "  * y        (y) int64 3 6 7"
      ]
     },
     "execution_count": 7,
     "metadata": {},
     "output_type": "execute_result"
    }
   ],
   "source": [
    "c = xr.DataArray(np.random.rand(2,3), dims=['z','y'], coords={'z':[2,5],'y':[3,6,7]})\n",
    "c"
   ]
  },
  {
   "cell_type": "code",
   "execution_count": 8,
   "metadata": {},
   "outputs": [
    {
     "data": {
      "text/html": [
       "<div>\n",
       "<style scoped>\n",
       "    .dataframe tbody tr th:only-of-type {\n",
       "        vertical-align: middle;\n",
       "    }\n",
       "\n",
       "    .dataframe tbody tr th {\n",
       "        vertical-align: top;\n",
       "    }\n",
       "\n",
       "    .dataframe thead th {\n",
       "        text-align: right;\n",
       "    }\n",
       "</style>\n",
       "<table border=\"1\" class=\"dataframe\">\n",
       "  <thead>\n",
       "    <tr style=\"text-align: right;\">\n",
       "      <th>y</th>\n",
       "      <th>3</th>\n",
       "      <th>6</th>\n",
       "      <th>7</th>\n",
       "    </tr>\n",
       "    <tr>\n",
       "      <th>z</th>\n",
       "      <th></th>\n",
       "      <th></th>\n",
       "      <th></th>\n",
       "    </tr>\n",
       "  </thead>\n",
       "  <tbody>\n",
       "    <tr>\n",
       "      <th>2</th>\n",
       "      <td>0.546055</td>\n",
       "      <td>0.057681</td>\n",
       "      <td>0.536134</td>\n",
       "    </tr>\n",
       "    <tr>\n",
       "      <th>5</th>\n",
       "      <td>0.378684</td>\n",
       "      <td>0.630938</td>\n",
       "      <td>0.557293</td>\n",
       "    </tr>\n",
       "  </tbody>\n",
       "</table>\n",
       "</div>"
      ],
      "text/plain": [
       "y         3         6         7\n",
       "z                              \n",
       "2  0.546055  0.057681  0.536134\n",
       "5  0.378684  0.630938  0.557293"
      ]
     },
     "execution_count": 8,
     "metadata": {},
     "output_type": "execute_result"
    }
   ],
   "source": [
    "c.to_pandas()"
   ]
  },
  {
   "cell_type": "code",
   "execution_count": 10,
   "metadata": {},
   "outputs": [
    {
     "data": {
      "text/plain": [
       "<xarray.DataArray (x: 2, y: 3, z: 2)>\n",
       "array([[[0.320929, 0.222561],\n",
       "        [0.029104, 0.318348],\n",
       "        [0.040428, 0.042024]],\n",
       "\n",
       "       [[0.039671, 0.027512],\n",
       "        [0.021137, 0.231204],\n",
       "        [0.140072, 0.145601]]])\n",
       "Coordinates:\n",
       "  * x        (x) int64 2 5\n",
       "  * y        (y) int64 3 6 7\n",
       "  * z        (z) int64 2 5"
      ]
     },
     "execution_count": 10,
     "metadata": {},
     "output_type": "execute_result"
    }
   ],
   "source": [
    "a*c"
   ]
  },
  {
   "cell_type": "code",
   "execution_count": 9,
   "metadata": {
    "collapsed": true,
    "jupyter": {
     "outputs_hidden": true
    }
   },
   "outputs": [
    {
     "ename": "TypeError",
     "evalue": "Panel() takes no arguments",
     "output_type": "error",
     "traceback": [
      "\u001b[0;31m---------------------------------------------------------------------------\u001b[0m",
      "\u001b[0;31mTypeError\u001b[0m                                 Traceback (most recent call last)",
      "\u001b[0;32m<ipython-input-9-cfac9376097d>\u001b[0m in \u001b[0;36m<module>\u001b[0;34m\u001b[0m\n\u001b[0;32m----> 1\u001b[0;31m \u001b[0;34m(\u001b[0m\u001b[0ma\u001b[0m \u001b[0;34m*\u001b[0m \u001b[0mc\u001b[0m\u001b[0;34m)\u001b[0m\u001b[0;34m.\u001b[0m\u001b[0mto_pandas\u001b[0m\u001b[0;34m(\u001b[0m\u001b[0;34m)\u001b[0m\u001b[0;34m\u001b[0m\u001b[0;34m\u001b[0m\u001b[0m\n\u001b[0m",
      "\u001b[0;32m~/anaconda3/envs/hv_pyro/lib/python3.7/site-packages/xarray/core/dataarray.py\u001b[0m in \u001b[0;36mto_pandas\u001b[0;34m(self)\u001b[0m\n\u001b[1;32m   1921\u001b[0m                              'pandas objects' % self.ndim)\n\u001b[1;32m   1922\u001b[0m         \u001b[0mindexes\u001b[0m \u001b[0;34m=\u001b[0m \u001b[0;34m[\u001b[0m\u001b[0mself\u001b[0m\u001b[0;34m.\u001b[0m\u001b[0mget_index\u001b[0m\u001b[0;34m(\u001b[0m\u001b[0mdim\u001b[0m\u001b[0;34m)\u001b[0m \u001b[0;32mfor\u001b[0m \u001b[0mdim\u001b[0m \u001b[0;32min\u001b[0m \u001b[0mself\u001b[0m\u001b[0;34m.\u001b[0m\u001b[0mdims\u001b[0m\u001b[0;34m]\u001b[0m\u001b[0;34m\u001b[0m\u001b[0;34m\u001b[0m\u001b[0m\n\u001b[0;32m-> 1923\u001b[0;31m         \u001b[0;32mreturn\u001b[0m \u001b[0mconstructor\u001b[0m\u001b[0;34m(\u001b[0m\u001b[0mself\u001b[0m\u001b[0;34m.\u001b[0m\u001b[0mvalues\u001b[0m\u001b[0;34m,\u001b[0m \u001b[0;34m*\u001b[0m\u001b[0mindexes\u001b[0m\u001b[0;34m)\u001b[0m\u001b[0;34m\u001b[0m\u001b[0;34m\u001b[0m\u001b[0m\n\u001b[0m\u001b[1;32m   1924\u001b[0m \u001b[0;34m\u001b[0m\u001b[0m\n\u001b[1;32m   1925\u001b[0m     def to_dataframe(\n",
      "\u001b[0;31mTypeError\u001b[0m: Panel() takes no arguments"
     ]
    }
   ],
   "source": [
    "(a * c).to_pandas() # should die cuz we've got 3 dims"
   ]
  },
  {
   "cell_type": "code",
   "execution_count": 17,
   "metadata": {},
   "outputs": [
    {
     "data": {
      "text/plain": [
       "<xarray.DataArray ()>\n",
       "array(0.033867)\n",
       "Coordinates:\n",
       "    x        int64 2\n",
       "    y        int64 3"
      ]
     },
     "execution_count": 17,
     "metadata": {},
     "output_type": "execute_result"
    }
   ],
   "source": [
    "a[0,0]"
   ]
  },
  {
   "cell_type": "code",
   "execution_count": 18,
   "metadata": {},
   "outputs": [
    {
     "data": {
      "text/plain": [
       "<xarray.DataArray ()>\n",
       "array(0.695082)\n",
       "Coordinates:\n",
       "    x        int64 5\n",
       "    y        int64 6"
      ]
     },
     "execution_count": 18,
     "metadata": {},
     "output_type": "execute_result"
    }
   ],
   "source": [
    "a.loc[5,6]"
   ]
  },
  {
   "cell_type": "code",
   "execution_count": 22,
   "metadata": {},
   "outputs": [
    {
     "data": {
      "text/plain": [
       "<xarray.DataArray ()>\n",
       "array(0.069959)\n",
       "Coordinates:\n",
       "    x        int64 5\n",
       "    y        int64 7"
      ]
     },
     "execution_count": 22,
     "metadata": {},
     "output_type": "execute_result"
    }
   ],
   "source": [
    "a.sel(x=5, y=7)"
   ]
  },
  {
   "cell_type": "code",
   "execution_count": 26,
   "metadata": {},
   "outputs": [],
   "source": [
    "data = xr.DataArray(np.random.randn(2, 3),\n",
    "                      dims=('x', 'y'),\n",
    "                       coords={'x': [10, 20]})"
   ]
  },
  {
   "cell_type": "code",
   "execution_count": 43,
   "metadata": {},
   "outputs": [
    {
     "data": {
      "text/plain": [
       "<xarray.DataArray ()>\n",
       "array(-0.42923)\n",
       "Coordinates:\n",
       "    x        int64 10"
      ]
     },
     "execution_count": 43,
     "metadata": {},
     "output_type": "execute_result"
    }
   ],
   "source": [
    "data[0,0]"
   ]
  },
  {
   "cell_type": "code",
   "execution_count": 44,
   "metadata": {},
   "outputs": [
    {
     "data": {
      "text/plain": [
       "<xarray.DataArray (y: 3)>\n",
       "array([ 0.157318, -0.627474, -1.12968 ])\n",
       "Coordinates:\n",
       "    x        int64 20\n",
       "Dimensions without coordinates: y"
      ]
     },
     "execution_count": 44,
     "metadata": {},
     "output_type": "execute_result"
    }
   ],
   "source": [
    "data[1,:]"
   ]
  },
  {
   "cell_type": "code",
   "execution_count": 45,
   "metadata": {},
   "outputs": [
    {
     "data": {
      "text/plain": [
       "<xarray.DataArray ()>\n",
       "array(0.222201)\n",
       "Coordinates:\n",
       "    x        int64 10"
      ]
     },
     "execution_count": 45,
     "metadata": {},
     "output_type": "execute_result"
    }
   ],
   "source": [
    "data.sel(x=10,y=2)"
   ]
  },
  {
   "cell_type": "code",
   "execution_count": 50,
   "metadata": {},
   "outputs": [
    {
     "data": {
      "text/plain": [
       "<xarray.DataArray (y: 3)>\n",
       "array([-0.42923 ,  1.861871,  0.222201])\n",
       "Coordinates:\n",
       "    x        int64 10\n",
       "Dimensions without coordinates: y"
      ]
     },
     "execution_count": 50,
     "metadata": {},
     "output_type": "execute_result"
    }
   ],
   "source": [
    "data.loc[{'x':10}]"
   ]
  },
  {
   "cell_type": "code",
   "execution_count": 52,
   "metadata": {},
   "outputs": [
    {
     "data": {
      "text/plain": [
       "<xarray.DataArray (x: 2, y: 2)>\n",
       "array([[ 1.861871, -0.42923 ],\n",
       "       [-0.627474,  0.157318]])\n",
       "Coordinates:\n",
       "  * x        (x) int64 10 20\n",
       "Dimensions without coordinates: y"
      ]
     },
     "execution_count": 52,
     "metadata": {},
     "output_type": "execute_result"
    }
   ],
   "source": [
    "data.loc[{'y':[1,0]}]"
   ]
  },
  {
   "cell_type": "code",
   "execution_count": 53,
   "metadata": {},
   "outputs": [
    {
     "data": {
      "text/plain": [
       "<xarray.DataArray (y: 2)>\n",
       "array([ 1.861871, -0.42923 ])\n",
       "Coordinates:\n",
       "    x        int64 10\n",
       "Dimensions without coordinates: y"
      ]
     },
     "execution_count": 53,
     "metadata": {},
     "output_type": "execute_result"
    }
   ],
   "source": [
    "data.loc[{'y':[1,0],'x':10}]"
   ]
  },
  {
   "cell_type": "code",
   "execution_count": 55,
   "metadata": {},
   "outputs": [
    {
     "data": {
      "text/plain": [
       "<xarray.DataArray (x: 2, y: 2)>\n",
       "array([[ 0.157318, -1.12968 ],\n",
       "       [-0.42923 ,  0.222201]])\n",
       "Coordinates:\n",
       "  * x        (x) int64 20 10\n",
       "Dimensions without coordinates: y"
      ]
     },
     "execution_count": 55,
     "metadata": {},
     "output_type": "execute_result"
    }
   ],
   "source": [
    "data.sel(x=[20,10],y=[0,2])"
   ]
  },
  {
   "cell_type": "code",
   "execution_count": 56,
   "metadata": {},
   "outputs": [
    {
     "data": {
      "text/plain": [
       "x   y\n",
       "10  0   -0.429230\n",
       "    1    1.861871\n",
       "    2    0.222201\n",
       "20  0    0.157318\n",
       "    1   -0.627474\n",
       "    2   -1.129680\n",
       "dtype: float64"
      ]
     },
     "execution_count": 56,
     "metadata": {},
     "output_type": "execute_result"
    }
   ],
   "source": [
    "data.to_series()"
   ]
  },
  {
   "cell_type": "code",
   "execution_count": 57,
   "metadata": {},
   "outputs": [
    {
     "data": {
      "text/html": [
       "<div>\n",
       "<style scoped>\n",
       "    .dataframe tbody tr th:only-of-type {\n",
       "        vertical-align: middle;\n",
       "    }\n",
       "\n",
       "    .dataframe tbody tr th {\n",
       "        vertical-align: top;\n",
       "    }\n",
       "\n",
       "    .dataframe thead th {\n",
       "        text-align: right;\n",
       "    }\n",
       "</style>\n",
       "<table border=\"1\" class=\"dataframe\">\n",
       "  <thead>\n",
       "    <tr style=\"text-align: right;\">\n",
       "      <th>y</th>\n",
       "      <th>0</th>\n",
       "      <th>1</th>\n",
       "      <th>2</th>\n",
       "    </tr>\n",
       "    <tr>\n",
       "      <th>x</th>\n",
       "      <th></th>\n",
       "      <th></th>\n",
       "      <th></th>\n",
       "    </tr>\n",
       "  </thead>\n",
       "  <tbody>\n",
       "    <tr>\n",
       "      <th>10</th>\n",
       "      <td>-0.429230</td>\n",
       "      <td>1.861871</td>\n",
       "      <td>0.222201</td>\n",
       "    </tr>\n",
       "    <tr>\n",
       "      <th>20</th>\n",
       "      <td>0.157318</td>\n",
       "      <td>-0.627474</td>\n",
       "      <td>-1.129680</td>\n",
       "    </tr>\n",
       "  </tbody>\n",
       "</table>\n",
       "</div>"
      ],
      "text/plain": [
       "y          0         1         2\n",
       "x                               \n",
       "10 -0.429230  1.861871  0.222201\n",
       "20  0.157318 -0.627474 -1.129680"
      ]
     },
     "execution_count": 57,
     "metadata": {},
     "output_type": "execute_result"
    }
   ],
   "source": [
    "data.to_pandas()"
   ]
  },
  {
   "cell_type": "markdown",
   "metadata": {},
   "source": [
    "## DataArray with pos data"
   ]
  },
  {
   "cell_type": "code",
   "execution_count": 17,
   "metadata": {},
   "outputs": [
    {
     "data": {
      "text/plain": [
       "<xarray.DataArray (particles: 30, steps: 32)>\n",
       "array([[ 0.      ,  0.481762,  0.979465, ...,  2.880876,  2.447023,  1.755813],\n",
       "       [ 0.      ,  0.697417,  1.028486, ..., -0.930695, -0.71317 , -0.122509],\n",
       "       [ 0.      , -0.312168, -0.708338, ..., -1.358308, -0.95414 , -0.597796],\n",
       "       ...,\n",
       "       [ 0.      , -0.961562, -0.274019, ..., -1.467502, -1.087679, -1.762288],\n",
       "       [ 0.      , -0.517152, -0.619513, ...,  0.205468,  0.241352,  0.656014],\n",
       "       [ 0.      ,  0.787382,  0.903233, ...,  1.196427,  0.621885,  1.556724]],\n",
       "      dtype=float32)\n",
       "Dimensions without coordinates: particles, steps"
      ]
     },
     "execution_count": 17,
     "metadata": {},
     "output_type": "execute_result"
    }
   ],
   "source": [
    "n=30\n",
    "steps = 32\n",
    "# create random walk data\n",
    "pos = torch.empty(n, steps).uniform_(-1, 1).cumsum(1)\n",
    "\n",
    "# make the first position 0\n",
    "pos = pos - pos[:,0].unsqueeze(1)\n",
    "\n",
    "pos_da = xr.DataArray(pos.numpy(), dims=['particles','steps'])\n",
    "pos_da"
   ]
  },
  {
   "cell_type": "code",
   "execution_count": 21,
   "metadata": {},
   "outputs": [
    {
     "data": {
      "text/plain": [
       "<xarray.DataArray (particles: 3, steps: 4)>\n",
       "array([[ 0.      , -0.312168, -0.708338, -0.88591 ],\n",
       "       [ 0.      ,  0.375965,  0.374686,  1.074824],\n",
       "       [ 0.      ,  0.490305,  1.039249,  0.980105]], dtype=float32)\n",
       "Dimensions without coordinates: particles, steps"
      ]
     },
     "execution_count": 21,
     "metadata": {},
     "output_type": "execute_result"
    }
   ],
   "source": [
    "pos_da.loc[2:5, 0:4]"
   ]
  },
  {
   "cell_type": "code",
   "execution_count": 19,
   "metadata": {},
   "outputs": [
    {
     "data": {
      "text/plain": [
       "<xarray.DataArray (particles: 3, steps: 4)>\n",
       "array([[ 0.      ,  0.481762,  0.979465,  1.368937],\n",
       "       [ 0.      ,  0.697417,  1.028486,  1.763603],\n",
       "       [ 0.      , -0.312168, -0.708338, -0.88591 ]], dtype=float32)\n",
       "Dimensions without coordinates: particles, steps"
      ]
     },
     "execution_count": 19,
     "metadata": {},
     "output_type": "execute_result"
    }
   ],
   "source": [
    "pos_da.loc[:3, :4]"
   ]
  },
  {
   "cell_type": "code",
   "execution_count": 25,
   "metadata": {},
   "outputs": [
    {
     "data": {
      "text/plain": [
       "<xarray.DataArray (particles: 3, steps: 4)>\n",
       "array([[ 0.      ,  0.481762,  0.979465,  1.368937],\n",
       "       [ 0.      ,  0.697417,  1.028486,  1.763603],\n",
       "       [ 0.      , -0.312168, -0.708338, -0.88591 ]], dtype=float32)\n",
       "Dimensions without coordinates: particles, steps"
      ]
     },
     "execution_count": 25,
     "metadata": {},
     "output_type": "execute_result"
    }
   ],
   "source": [
    "pos_da.sel(particles=slice(0,3), steps=[0,1,2,3])"
   ]
  },
  {
   "cell_type": "code",
   "execution_count": 27,
   "metadata": {},
   "outputs": [
    {
     "data": {
      "text/plain": [
       "<xarray.DataArray (steps: 4)>\n",
       "array([ 0.      , -0.312168, -0.708338, -0.88591 ], dtype=float32)\n",
       "Dimensions without coordinates: steps"
      ]
     },
     "execution_count": 27,
     "metadata": {},
     "output_type": "execute_result"
    }
   ],
   "source": [
    "pos_da.sel(particles=slice(0,3), steps=[0,1,2,3]).sel(particles=2)"
   ]
  },
  {
   "cell_type": "code",
   "execution_count": 28,
   "metadata": {},
   "outputs": [
    {
     "data": {
      "text/plain": [
       "<xarray.DataArray (particles: 30, steps: 32)>\n",
       "array([[ 0.      ,  0.481762,  0.979465, ...,  2.880876,  2.447023,  1.755813],\n",
       "       [ 0.      ,  0.697417,  1.028486, ..., -0.930695, -0.71317 , -0.122509],\n",
       "       [ 0.      , -0.312168, -0.708338, ..., -1.358308, -0.95414 , -0.597796],\n",
       "       ...,\n",
       "       [ 0.      , -0.961562, -0.274019, ..., -1.467502, -1.087679, -1.762288],\n",
       "       [ 0.      , -0.517152, -0.619513, ...,  0.205468,  0.241352,  0.656014],\n",
       "       [ 0.      ,  0.787382,  0.903233, ...,  1.196427,  0.621885,  1.556724]],\n",
       "      dtype=float32)\n",
       "Coordinates:\n",
       "  * particles  (particles) int64 0 1 2 3 4 5 6 7 8 ... 22 23 24 25 26 27 28 29\n",
       "  * steps      (steps) int64 0 1 2 3 4 5 6 7 8 9 ... 23 24 25 26 27 28 29 30 31"
      ]
     },
     "execution_count": 28,
     "metadata": {},
     "output_type": "execute_result"
    }
   ],
   "source": [
    "\n",
    "poscoord_da = xr.DataArray(pos.numpy(), coords = [('particles', np.arange(30)),('steps',np.arange(32))])\n",
    "poscoord_da"
   ]
  },
  {
   "cell_type": "code",
   "execution_count": 57,
   "metadata": {},
   "outputs": [
    {
     "data": {
      "text/plain": [
       "<xarray.DataArray (steps: 32)>\n",
       "array([ 0.      ,  0.375965,  0.374686,  1.074824,  0.26203 ,  0.889337,\n",
       "        0.519092, -0.417865, -0.920426, -1.324418, -1.270773, -1.873123,\n",
       "       -1.070355, -0.430565,  0.243643,  0.229672, -0.440287, -1.031463,\n",
       "       -0.22437 ,  0.265713, -0.209984,  0.59695 ,  1.378502,  1.630596,\n",
       "        1.894357,  2.730291,  3.101273,  3.65379 ,  3.169738,  2.391841,\n",
       "        1.649172,  1.358656], dtype=float32)\n",
       "Coordinates:\n",
       "    particles  int64 3\n",
       "  * steps      (steps) int64 0 1 2 3 4 5 6 7 8 9 ... 23 24 25 26 27 28 29 30 31"
      ]
     },
     "execution_count": 57,
     "metadata": {},
     "output_type": "execute_result"
    }
   ],
   "source": [
    "poscoord_da.loc[3:5].loc[3]"
   ]
  },
  {
   "cell_type": "markdown",
   "metadata": {},
   "source": [
    "**Note** `.isel` ignores coords names and just counts top to bottom."
   ]
  },
  {
   "cell_type": "code",
   "execution_count": 62,
   "metadata": {},
   "outputs": [
    {
     "data": {
      "text/plain": [
       "<xarray.DataArray (steps: 32)>\n",
       "array([ 0.      ,  0.375965,  0.374686,  1.074824,  0.26203 ,  0.889337,\n",
       "        0.519092, -0.417865, -0.920426, -1.324418, -1.270773, -1.873123,\n",
       "       -1.070355, -0.430565,  0.243643,  0.229672, -0.440287, -1.031463,\n",
       "       -0.22437 ,  0.265713, -0.209984,  0.59695 ,  1.378502,  1.630596,\n",
       "        1.894357,  2.730291,  3.101273,  3.65379 ,  3.169738,  2.391841,\n",
       "        1.649172,  1.358656], dtype=float32)\n",
       "Coordinates:\n",
       "    particles  int64 3\n",
       "  * steps      (steps) int64 0 1 2 3 4 5 6 7 8 9 ... 23 24 25 26 27 28 29 30 31"
      ]
     },
     "execution_count": 62,
     "metadata": {},
     "output_type": "execute_result"
    }
   ],
   "source": [
    "poscoord_da.loc[3:5].isel(particles=0)"
   ]
  },
  {
   "cell_type": "code",
   "execution_count": 41,
   "metadata": {},
   "outputs": [
    {
     "data": {
      "text/plain": [
       "<xarray.DataArray (particles: 2, steps: 32)>\n",
       "array([[ 0.      ,  0.375965,  0.374686,  1.074824,  0.26203 ,  0.889337,\n",
       "         0.519092, -0.417865, -0.920426, -1.324418, -1.270773, -1.873123,\n",
       "        -1.070355, -0.430565,  0.243643,  0.229672, -0.440287, -1.031463,\n",
       "        -0.22437 ,  0.265713, -0.209984,  0.59695 ,  1.378502,  1.630596,\n",
       "         1.894357,  2.730291,  3.101273,  3.65379 ,  3.169738,  2.391841,\n",
       "         1.649172,  1.358656],\n",
       "       [ 0.      ,  0.490305,  1.039249,  0.980105,  1.423616,  0.90635 ,\n",
       "         0.830469,  1.021958,  1.598376,  0.623266,  0.674153,  1.013652,\n",
       "         1.668581,  2.651549,  2.583146,  2.138184,  2.03307 ,  1.17687 ,\n",
       "         1.354423,  0.897457,  0.216818, -0.056382,  0.277388,  0.055566,\n",
       "        -0.587838,  0.111196, -0.855095, -0.555146, -0.072044,  0.764843,\n",
       "         0.507337,  0.641741]], dtype=float32)\n",
       "Coordinates:\n",
       "  * particles  (particles) int64 3 4\n",
       "  * steps      (steps) int64 0 1 2 3 4 5 6 7 8 9 ... 23 24 25 26 27 28 29 30 31"
      ]
     },
     "execution_count": 41,
     "metadata": {},
     "output_type": "execute_result"
    }
   ],
   "source": [
    "poscoord_da.sel(particles=slice(3,6)).sel(particles=slice(2,4))"
   ]
  },
  {
   "cell_type": "code",
   "execution_count": 46,
   "metadata": {},
   "outputs": [
    {
     "data": {
      "text/plain": [
       "<xarray.DataArray (steps: 32)>\n",
       "array([False,  True,  True,  True,  True,  True,  True,  True,  True,  True,\n",
       "        True,  True,  True,  True,  True,  True,  True,  True,  True,  True,\n",
       "        True,  True,  True,  True,  True,  True,  True,  True,  True,  True,\n",
       "        True,  True])\n",
       "Coordinates:\n",
       "  * steps    (steps) int64 0 1 2 3 4 5 6 7 8 9 ... 22 23 24 25 26 27 28 29 30 31"
      ]
     },
     "execution_count": 46,
     "metadata": {},
     "output_type": "execute_result"
    }
   ],
   "source": [
    "(poscoord_da > 0.0).any(dim=\"particles\")"
   ]
  },
  {
   "cell_type": "code",
   "execution_count": 47,
   "metadata": {},
   "outputs": [
    {
     "data": {
      "text/plain": [
       "<xarray.DataArray (particles: 30)>\n",
       "array([ True,  True, False,  True,  True, False, False, False,  True,  True,\n",
       "        True,  True,  True,  True,  True,  True,  True,  True,  True,  True,\n",
       "        True,  True, False,  True, False,  True,  True,  True,  True,  True])\n",
       "Coordinates:\n",
       "  * particles  (particles) int64 0 1 2 3 4 5 6 7 8 ... 22 23 24 25 26 27 28 29"
      ]
     },
     "execution_count": 47,
     "metadata": {},
     "output_type": "execute_result"
    }
   ],
   "source": [
    "(poscoord_da > 0.0).any(dim=\"steps\")"
   ]
  },
  {
   "cell_type": "markdown",
   "metadata": {},
   "source": [
    "### this is the one, the big deal!!"
   ]
  },
  {
   "cell_type": "code",
   "execution_count": 50,
   "metadata": {},
   "outputs": [
    {
     "data": {
      "text/plain": [
       "<xarray.DataArray (particles: 24, steps: 32)>\n",
       "array([[ 0.      ,  0.481762,  0.979465, ...,  2.880876,  2.447023,  1.755813],\n",
       "       [ 0.      ,  0.697417,  1.028486, ..., -0.930695, -0.71317 , -0.122509],\n",
       "       [ 0.      ,  0.375965,  0.374686, ...,  2.391841,  1.649172,  1.358656],\n",
       "       ...,\n",
       "       [ 0.      , -0.961562, -0.274019, ..., -1.467502, -1.087679, -1.762288],\n",
       "       [ 0.      , -0.517152, -0.619513, ...,  0.205468,  0.241352,  0.656014],\n",
       "       [ 0.      ,  0.787382,  0.903233, ...,  1.196427,  0.621885,  1.556724]],\n",
       "      dtype=float32)\n",
       "Coordinates:\n",
       "  * particles  (particles) int64 0 1 3 4 8 9 10 11 ... 20 21 23 25 26 27 28 29\n",
       "  * steps      (steps) int64 0 1 2 3 4 5 6 7 8 9 ... 23 24 25 26 27 28 29 30 31"
      ]
     },
     "execution_count": 50,
     "metadata": {},
     "output_type": "execute_result"
    }
   ],
   "source": [
    "poscoord_da.loc[(poscoord_da > 0.0).any(dim=\"steps\")]"
   ]
  },
  {
   "cell_type": "code",
   "execution_count": 51,
   "metadata": {},
   "outputs": [
    {
     "data": {
      "text/plain": [
       "<xarray.DataArray (particles: 24, steps: 32)>\n",
       "array([[ 0.      ,  0.481762,  0.979465, ...,  2.880876,  2.447023,  1.755813],\n",
       "       [ 0.      ,  0.697417,  1.028486, ..., -0.930695, -0.71317 , -0.122509],\n",
       "       [ 0.      ,  0.375965,  0.374686, ...,  2.391841,  1.649172,  1.358656],\n",
       "       ...,\n",
       "       [ 0.      , -0.961562, -0.274019, ..., -1.467502, -1.087679, -1.762288],\n",
       "       [ 0.      , -0.517152, -0.619513, ...,  0.205468,  0.241352,  0.656014],\n",
       "       [ 0.      ,  0.787382,  0.903233, ...,  1.196427,  0.621885,  1.556724]],\n",
       "      dtype=float32)\n",
       "Coordinates:\n",
       "  * particles  (particles) int64 0 1 3 4 8 9 10 11 ... 20 21 23 25 26 27 28 29\n",
       "  * steps      (steps) int64 0 1 2 3 4 5 6 7 8 9 ... 23 24 25 26 27 28 29 30 31"
      ]
     },
     "execution_count": 51,
     "metadata": {},
     "output_type": "execute_result"
    }
   ],
   "source": [
    "pred = (poscoord_da > 0.0).any(dim=\"steps\")\n",
    "poscoord_da.loc[pred]"
   ]
  },
  {
   "cell_type": "code",
   "execution_count": 67,
   "metadata": {},
   "outputs": [
    {
     "data": {
      "text/plain": [
       "<xarray.DataArray (particles: 24, steps: 32)>\n",
       "array([[ 0.      ,  0.481762,  0.979465, ...,  2.880876,  2.447023,  1.755813],\n",
       "       [ 0.      ,  0.697417,  1.028486, ..., -0.930695, -0.71317 , -0.122509],\n",
       "       [ 0.      ,  0.375965,  0.374686, ...,  2.391841,  1.649172,  1.358656],\n",
       "       ...,\n",
       "       [ 0.      , -0.961562, -0.274019, ..., -1.467502, -1.087679, -1.762288],\n",
       "       [ 0.      , -0.517152, -0.619513, ...,  0.205468,  0.241352,  0.656014],\n",
       "       [ 0.      ,  0.787382,  0.903233, ...,  1.196427,  0.621885,  1.556724]],\n",
       "      dtype=float32)\n",
       "Coordinates:\n",
       "  * particles  (particles) int64 0 1 3 4 8 9 10 11 ... 20 21 23 25 26 27 28 29\n",
       "  * steps      (steps) int64 0 1 2 3 4 5 6 7 8 9 ... 23 24 25 26 27 28 29 30 31"
      ]
     },
     "execution_count": 67,
     "metadata": {},
     "output_type": "execute_result"
    }
   ],
   "source": [
    "pred_ba = (poscoord_da > 0.0).any(dim=\"steps\")\n",
    "poscoord_da.loc[dict(particles=pred_ba)]"
   ]
  },
  {
   "cell_type": "code",
   "execution_count": 68,
   "metadata": {},
   "outputs": [
    {
     "data": {
      "text/plain": [
       "<xarray.DataArray (particles: 24, steps: 32)>\n",
       "array([[ 0.      ,  0.481762,  0.979465, ...,  2.880876,  2.447023,  1.755813],\n",
       "       [ 0.      ,  0.697417,  1.028486, ..., -0.930695, -0.71317 , -0.122509],\n",
       "       [ 0.      ,  0.375965,  0.374686, ...,  2.391841,  1.649172,  1.358656],\n",
       "       ...,\n",
       "       [ 0.      , -0.961562, -0.274019, ..., -1.467502, -1.087679, -1.762288],\n",
       "       [ 0.      , -0.517152, -0.619513, ...,  0.205468,  0.241352,  0.656014],\n",
       "       [ 0.      ,  0.787382,  0.903233, ...,  1.196427,  0.621885,  1.556724]],\n",
       "      dtype=float32)\n",
       "Coordinates:\n",
       "  * particles  (particles) int64 0 1 3 4 8 9 10 11 ... 20 21 23 25 26 27 28 29\n",
       "  * steps      (steps) int64 0 1 2 3 4 5 6 7 8 9 ... 23 24 25 26 27 28 29 30 31"
      ]
     },
     "execution_count": 68,
     "metadata": {},
     "output_type": "execute_result"
    }
   ],
   "source": [
    "pred_ba = (poscoord_da > 0.0).any(dim=\"steps\")\n",
    "poscoord_da.sel(particles=pred_ba)"
   ]
  },
  {
   "cell_type": "markdown",
   "metadata": {},
   "source": [
    "\n",
    "# Dataset"
   ]
  },
  {
   "cell_type": "code",
   "execution_count": 30,
   "metadata": {},
   "outputs": [
    {
     "data": {
      "text/plain": [
       "<xarray.Dataset>\n",
       "Dimensions:  (x: 2, y: 3)\n",
       "Coordinates:\n",
       "  * x        (x) int64 10 20\n",
       "Dimensions without coordinates: y\n",
       "Data variables:\n",
       "    foo      (x, y) float64 -0.4292 1.862 0.2222 0.1573 -0.6275 -1.13\n",
       "    bar      (x) int64 1 2\n",
       "    baz      float64 3.142"
      ]
     },
     "execution_count": 30,
     "metadata": {},
     "output_type": "execute_result"
    }
   ],
   "source": [
    "ds = xr.Dataset({'foo': data, 'bar': ('x', [1, 2]), 'baz': np.pi})\n",
    "ds"
   ]
  },
  {
   "cell_type": "code",
   "execution_count": 28,
   "metadata": {},
   "outputs": [
    {
     "data": {
      "text/plain": [
       "<xarray.DataArray 'foo' (x: 2, y: 3)>\n",
       "array([[-0.42923 ,  1.861871,  0.222201],\n",
       "       [ 0.157318, -0.627474, -1.12968 ]])\n",
       "Coordinates:\n",
       "  * x        (x) int64 10 20\n",
       "Dimensions without coordinates: y"
      ]
     },
     "execution_count": 28,
     "metadata": {},
     "output_type": "execute_result"
    }
   ],
   "source": [
    "ds.foo"
   ]
  },
  {
   "cell_type": "code",
   "execution_count": 29,
   "metadata": {},
   "outputs": [
    {
     "data": {
      "text/plain": [
       "<xarray.DataArray 'bar' (x: 2)>\n",
       "array([1, 2])\n",
       "Coordinates:\n",
       "  * x        (x) int64 10 20"
      ]
     },
     "execution_count": 29,
     "metadata": {},
     "output_type": "execute_result"
    }
   ],
   "source": [
    "ds.bar"
   ]
  },
  {
   "cell_type": "code",
   "execution_count": 32,
   "metadata": {},
   "outputs": [
    {
     "data": {
      "text/plain": [
       "<xarray.DataArray 'baz' ()>\n",
       "array(3.141593)"
      ]
     },
     "execution_count": 32,
     "metadata": {},
     "output_type": "execute_result"
    }
   ],
   "source": [
    "ds.baz"
   ]
  },
  {
   "cell_type": "code",
   "execution_count": 38,
   "metadata": {},
   "outputs": [
    {
     "data": {
      "text/plain": [
       "<xarray.DataArray 'foo' (y: 3)>\n",
       "array([-0.42923 ,  1.861871,  0.222201])\n",
       "Coordinates:\n",
       "    x        int64 10\n",
       "Dimensions without coordinates: y"
      ]
     },
     "execution_count": 38,
     "metadata": {},
     "output_type": "execute_result"
    }
   ],
   "source": [
    "ds.foo.sel(x=10)"
   ]
  },
  {
   "cell_type": "code",
   "execution_count": 39,
   "metadata": {},
   "outputs": [
    {
     "data": {
      "text/plain": [
       "<xarray.Dataset>\n",
       "Dimensions:  (y: 3)\n",
       "Coordinates:\n",
       "    x        int64 10\n",
       "Dimensions without coordinates: y\n",
       "Data variables:\n",
       "    foo      (y) float64 -0.4292 1.862 0.2222\n",
       "    bar      int64 1\n",
       "    baz      float64 3.142"
      ]
     },
     "execution_count": 39,
     "metadata": {},
     "output_type": "execute_result"
    }
   ],
   "source": [
    "ds.sel(x=10)"
   ]
  },
  {
   "cell_type": "code",
   "execution_count": 41,
   "metadata": {},
   "outputs": [
    {
     "data": {
      "text/plain": [
       "<xarray.Dataset>\n",
       "Dimensions:  ()\n",
       "Coordinates:\n",
       "    x        int64 20\n",
       "Data variables:\n",
       "    foo      float64 -0.6275\n",
       "    bar      int64 2\n",
       "    baz      float64 3.142"
      ]
     },
     "execution_count": 41,
     "metadata": {},
     "output_type": "execute_result"
    }
   ],
   "source": [
    "ds.sel(x=20, y=1)"
   ]
  },
  {
   "cell_type": "code",
   "execution_count": null,
   "metadata": {},
   "outputs": [],
   "source": []
  }
 ],
 "metadata": {
  "kernelspec": {
   "display_name": "Python 3",
   "language": "python",
   "name": "python3"
  },
  "language_info": {
   "codemirror_mode": {
    "name": "ipython",
    "version": 3
   },
   "file_extension": ".py",
   "mimetype": "text/x-python",
   "name": "python",
   "nbconvert_exporter": "python",
   "pygments_lexer": "ipython3",
   "version": "3.7.3"
  }
 },
 "nbformat": 4,
 "nbformat_minor": 4
}
