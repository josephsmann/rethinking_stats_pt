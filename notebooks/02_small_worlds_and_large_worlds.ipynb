{
 "cells": [
  {
   "cell_type": "markdown",
   "metadata": {},
   "source": [
    "# Chapter 2. Small Worlds and Large Worlds"
   ]
  },
  {
   "cell_type": "code",
   "execution_count": 1,
   "metadata": {},
   "outputs": [],
   "source": [
    "import seaborn as sns\n",
    "import torch\n",
    "\n",
    "import pyro\n",
    "import pyro.distributions as dist\n",
    "\n",
    "from rethinking import MAP, precis"
   ]
  },
  {
   "cell_type": "markdown",
   "metadata": {},
   "source": [
    "### Code 2.1"
   ]
  },
  {
   "cell_type": "code",
   "execution_count": 2,
   "metadata": {},
   "outputs": [
    {
     "data": {
      "text/plain": [
       "tensor([0.0000, 0.1500, 0.4000, 0.4500, 0.0000])"
      ]
     },
     "execution_count": 2,
     "metadata": {},
     "output_type": "execute_result"
    }
   ],
   "source": [
    "ways = torch.tensor([0., 3, 8, 9, 0])\n",
    "ways / ways.sum()"
   ]
  },
  {
   "cell_type": "markdown",
   "metadata": {},
   "source": [
    "### Code 2.2"
   ]
  },
  {
   "cell_type": "code",
   "execution_count": 3,
   "metadata": {},
   "outputs": [
    {
     "data": {
      "text/plain": [
       "tensor(0.1641)"
      ]
     },
     "execution_count": 3,
     "metadata": {},
     "output_type": "execute_result"
    }
   ],
   "source": [
    "dist.Binomial(total_count=9, probs=0.5).log_prob(torch.tensor(6.)).exp()"
   ]
  },
  {
   "cell_type": "markdown",
   "metadata": {},
   "source": [
    "### Code 2.3"
   ]
  },
  {
   "cell_type": "code",
   "execution_count": 4,
   "metadata": {},
   "outputs": [],
   "source": [
    "# define grid\n",
    "p_grid = torch.linspace(start=0, end=1, steps=20)\n",
    "\n",
    "# define prior\n",
    "prior = torch.tensor(1.).repeat(20)"
   ]
  },
  {
   "cell_type": "code",
   "execution_count": 11,
   "metadata": {},
   "outputs": [],
   "source": [
    "# compute likelihood at each value in grid\n",
    "likelihood = dist.Binomial(total_count=9,\n",
    "                           probs=p_grid).log_prob(torch.tensor(6.)).exp()\n",
    "\n",
    "# compute product of likelihood and prior\n",
    "unstd_posterior = likelihood * prior\n",
    "\n",
    "# standardize the posterior, so it sums to 1\n",
    "posterior = unstd_posterior / unstd_posterior.sum()"
   ]
  },
  {
   "cell_type": "markdown",
   "metadata": {},
   "source": [
    "### Code 2.4"
   ]
  },
  {
   "cell_type": "code",
   "execution_count": 12,
   "metadata": {},
   "outputs": [
    {
     "data": {
      "image/png": "[encoded data removed]",
      "text/plain": [
       "<Figure size 432x288 with 1 Axes>"
      ]
     },
     "metadata": {
      "needs_background": "light"
     },
     "output_type": "display_data"
    }
   ],
   "source": [
    "ax = sns.lineplot(p_grid, posterior, marker=\"o\")\n",
    "ax.set(xlabel=\"probability of water\", ylabel=\"posterior probability\",\n",
    "       title=\"20 points\");"
   ]
  },
  {
   "cell_type": "markdown",
   "metadata": {},
   "source": [
    "### Code 2.5\n",
    "try these priors one at a time and check the difference"
   ]
  },
  {
   "cell_type": "code",
   "execution_count": 10,
   "metadata": {},
   "outputs": [],
   "source": [
    "# prior = torch.where(p_grid < 0.5, torch.tensor(0.), torch.tensor(1.))\n",
    "prior = (-5 * (p_grid - 0.5).abs()).exp()"
   ]
  },
  {
   "cell_type": "markdown",
   "metadata": {},
   "source": [
    "### Code 2.6"
   ]
  },
  {
   "cell_type": "code",
   "execution_count": 14,
   "metadata": {},
   "outputs": [
    {
     "data": {
      "text/html": [
       "<div>\n",
       "<style scoped>\n",
       "    .dataframe tbody tr th:only-of-type {\n",
       "        vertical-align: middle;\n",
       "    }\n",
       "\n",
       "    .dataframe tbody tr th {\n",
       "        vertical-align: top;\n",
       "    }\n",
       "\n",
       "    .dataframe thead th {\n",
       "        text-align: right;\n",
       "    }\n",
       "</style>\n",
       "<table border=\"1\" class=\"dataframe\">\n",
       "  <thead>\n",
       "    <tr style=\"text-align: right;\">\n",
       "      <th></th>\n",
       "      <th>Mean</th>\n",
       "      <th>StdDev</th>\n",
       "      <th>|0.89</th>\n",
       "      <th>0.89|</th>\n",
       "    </tr>\n",
       "  </thead>\n",
       "  <tbody>\n",
       "    <tr>\n",
       "      <th>p</th>\n",
       "      <td>0.63</td>\n",
       "      <td>0.14</td>\n",
       "      <td>0.41</td>\n",
       "      <td>0.84</td>\n",
       "    </tr>\n",
       "  </tbody>\n",
       "</table>\n",
       "</div>"
      ],
      "text/plain": [
       "   Mean  StdDev  |0.89  0.89|\n",
       "p  0.63    0.14   0.41   0.84"
      ]
     },
     "execution_count": 14,
     "metadata": {},
     "output_type": "execute_result"
    }
   ],
   "source": [
    "def model(w):\n",
    "    p = pyro.sample(\"p\", dist.Uniform(0, 1))  # uniform prior\n",
    "    pyro.sample(\"w\", dist.Binomial(9, p), obs=w)  # binomial likelihood\n",
    "\n",
    "globe_qa = MAP(model).run(torch.tensor(6.))\n",
    "\n",
    "# display summary of quadratic approximation\n",
    "precis(globe_qa)"
   ]
  },
  {
   "cell_type": "markdown",
   "metadata": {},
   "source": [
    "### Code 2.7"
   ]
  },
  {
   "cell_type": "code",
   "execution_count": 15,
   "metadata": {},
   "outputs": [
    {
     "data": {
      "image/png": "[encoded data removed]",
      "text/plain": [
       "<Figure size 432x288 with 1 Axes>"
      ]
     },
     "metadata": {
      "needs_background": "light"
     },
     "output_type": "display_data"
    }
   ],
   "source": [
    "# analytical calculation\n",
    "w = 6\n",
    "n = 9\n",
    "x = torch.linspace(0, 1, 101)\n",
    "ax = sns.lineplot(x, dist.Beta(w + 1, n - w + 1).log_prob(x).exp())\n",
    "ax.set(xlabel=\"proportion water\", ylabel=\"Density\", title=\"n = 9\")\n",
    "# quadratic approximation\n",
    "precis_df = precis(globe_qa)\n",
    "sns.lineplot(x, dist.Normal(precis_df[\"Mean\"][0],\n",
    "                            precis_df[\"StdDev\"][0]).log_prob(x).exp())\n",
    "ax.lines[1].set_linestyle(\"--\")"
   ]
  },
  {
   "cell_type": "code",
   "execution_count": null,
   "metadata": {},
   "outputs": [],
   "source": []
  }
 ],
 "metadata": {
  "kernelspec": {
   "display_name": "mykernel",
   "language": "python",
   "name": "mykernel"
  },
  "language_info": {
   "codemirror_mode": {
    "name": "ipython",
    "version": 3
   },
   "file_extension": ".py",
   "mimetype": "text/x-python",
   "name": "python",
   "nbconvert_exporter": "python",
   "pygments_lexer": "ipython3",
   "version": "3.7.1"
  }
 },
 "nbformat": 4,
 "nbformat_minor": 2
}
